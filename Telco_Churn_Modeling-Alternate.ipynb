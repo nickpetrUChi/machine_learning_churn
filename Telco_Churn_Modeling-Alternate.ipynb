{
 "cells": [
  {
   "cell_type": "markdown",
   "id": "987ba89a",
   "metadata": {},
   "source": [
    "## Telco Customer Churn - Modeling "
   ]
  },
  {
   "cell_type": "markdown",
   "id": "bc90ee6d",
   "metadata": {},
   "source": [
    "### Import required packages and load dataset"
   ]
  },
  {
   "cell_type": "code",
   "execution_count": 20,
   "id": "1bd43dfb",
   "metadata": {},
   "outputs": [],
   "source": [
    "# general packages\n",
    "import pandas as pd\n",
    "import matplotlib.pyplot as plt\n",
    "import pandas as pd\n",
    "import seaborn as sns\n",
    "import numpy as np\n",
    "import warnings\n",
    "warnings.filterwarnings(\"ignore\")\n",
    "import pickle\n",
    "\n",
    "# sklearn packages\n",
    "from sklearn.model_selection import train_test_split\n",
    "from sklearn.preprocessing import StandardScaler, PolynomialFeatures\n",
    "from sklearn import linear_model, metrics\n",
    "from sklearn.model_selection import GridSearchCV, RepeatedStratifiedKFold, train_test_split, cross_val_score\n",
    "from sklearn.naive_bayes import MultinomialNB\n",
    "from sklearn.neighbors import KNeighborsClassifier\n",
    "from sklearn.svm import LinearSVC\n",
    "from sklearn.tree import DecisionTreeClassifier\n",
    "from sklearn.pipeline import Pipeline\n",
    "from sklearn.model_selection import KFold\n",
    "from sklearn.ensemble import BaggingClassifier, AdaBoostClassifier, RandomForestClassifier, GradientBoostingClassifier\n",
    "from sklearn.metrics import plot_confusion_matrix,classification_report\n",
    "\n",
    "# imbelearn package\n",
    "from imblearn.over_sampling import SMOTE"
   ]
  },
  {
   "cell_type": "code",
   "execution_count": 2,
   "id": "dd5bc863",
   "metadata": {},
   "outputs": [
    {
     "name": "stdout",
     "output_type": "stream",
     "text": [
      "<class 'pandas.core.frame.DataFrame'>\n",
      "RangeIndex: 7043 entries, 0 to 7042\n",
      "Data columns (total 21 columns):\n",
      " #   Column            Non-Null Count  Dtype  \n",
      "---  ------            --------------  -----  \n",
      " 0   customerID        7043 non-null   object \n",
      " 1   gender            7043 non-null   object \n",
      " 2   SeniorCitizen     7043 non-null   int64  \n",
      " 3   Partner           7043 non-null   object \n",
      " 4   Dependents        7043 non-null   object \n",
      " 5   tenure            7043 non-null   int64  \n",
      " 6   PhoneService      7043 non-null   object \n",
      " 7   MultipleLines     7043 non-null   object \n",
      " 8   InternetService   7043 non-null   object \n",
      " 9   OnlineSecurity    7043 non-null   object \n",
      " 10  OnlineBackup      7043 non-null   object \n",
      " 11  DeviceProtection  7043 non-null   object \n",
      " 12  TechSupport       7043 non-null   object \n",
      " 13  StreamingTV       7043 non-null   object \n",
      " 14  StreamingMovies   7043 non-null   object \n",
      " 15  Contract          7043 non-null   object \n",
      " 16  PaperlessBilling  7043 non-null   object \n",
      " 17  PaymentMethod     7043 non-null   object \n",
      " 18  MonthlyCharges    7043 non-null   float64\n",
      " 19  TotalCharges      7043 non-null   object \n",
      " 20  Churn             7043 non-null   object \n",
      "dtypes: float64(1), int64(2), object(18)\n",
      "memory usage: 1.1+ MB\n"
     ]
    }
   ],
   "source": [
    "df = pd.read_csv('WA_Fn-UseC_-Telco-Customer-Churn.csv', sep = ',')\n",
    "\n",
    "# print first few rows of df \n",
    "df.info()"
   ]
  },
  {
   "cell_type": "code",
   "execution_count": 3,
   "id": "452d61cf",
   "metadata": {},
   "outputs": [
    {
     "data": {
      "text/html": [
       "<div>\n",
       "<style scoped>\n",
       "    .dataframe tbody tr th:only-of-type {\n",
       "        vertical-align: middle;\n",
       "    }\n",
       "\n",
       "    .dataframe tbody tr th {\n",
       "        vertical-align: top;\n",
       "    }\n",
       "\n",
       "    .dataframe thead th {\n",
       "        text-align: right;\n",
       "    }\n",
       "</style>\n",
       "<table border=\"1\" class=\"dataframe\">\n",
       "  <thead>\n",
       "    <tr style=\"text-align: right;\">\n",
       "      <th></th>\n",
       "      <th>customerID</th>\n",
       "      <th>gender</th>\n",
       "      <th>SeniorCitizen</th>\n",
       "      <th>Partner</th>\n",
       "      <th>Dependents</th>\n",
       "      <th>tenure</th>\n",
       "      <th>PhoneService</th>\n",
       "      <th>MultipleLines</th>\n",
       "      <th>InternetService</th>\n",
       "      <th>OnlineSecurity</th>\n",
       "      <th>...</th>\n",
       "      <th>DeviceProtection</th>\n",
       "      <th>TechSupport</th>\n",
       "      <th>StreamingTV</th>\n",
       "      <th>StreamingMovies</th>\n",
       "      <th>Contract</th>\n",
       "      <th>PaperlessBilling</th>\n",
       "      <th>PaymentMethod</th>\n",
       "      <th>MonthlyCharges</th>\n",
       "      <th>TotalCharges</th>\n",
       "      <th>Churn</th>\n",
       "    </tr>\n",
       "  </thead>\n",
       "  <tbody>\n",
       "    <tr>\n",
       "      <th>0</th>\n",
       "      <td>7590-VHVEG</td>\n",
       "      <td>Female</td>\n",
       "      <td>0</td>\n",
       "      <td>Yes</td>\n",
       "      <td>No</td>\n",
       "      <td>1</td>\n",
       "      <td>No</td>\n",
       "      <td>No phone service</td>\n",
       "      <td>DSL</td>\n",
       "      <td>No</td>\n",
       "      <td>...</td>\n",
       "      <td>No</td>\n",
       "      <td>No</td>\n",
       "      <td>No</td>\n",
       "      <td>No</td>\n",
       "      <td>Month-to-month</td>\n",
       "      <td>Yes</td>\n",
       "      <td>Electronic check</td>\n",
       "      <td>29.85</td>\n",
       "      <td>29.85</td>\n",
       "      <td>No</td>\n",
       "    </tr>\n",
       "    <tr>\n",
       "      <th>1</th>\n",
       "      <td>5575-GNVDE</td>\n",
       "      <td>Male</td>\n",
       "      <td>0</td>\n",
       "      <td>No</td>\n",
       "      <td>No</td>\n",
       "      <td>34</td>\n",
       "      <td>Yes</td>\n",
       "      <td>No</td>\n",
       "      <td>DSL</td>\n",
       "      <td>Yes</td>\n",
       "      <td>...</td>\n",
       "      <td>Yes</td>\n",
       "      <td>No</td>\n",
       "      <td>No</td>\n",
       "      <td>No</td>\n",
       "      <td>One year</td>\n",
       "      <td>No</td>\n",
       "      <td>Mailed check</td>\n",
       "      <td>56.95</td>\n",
       "      <td>1889.5</td>\n",
       "      <td>No</td>\n",
       "    </tr>\n",
       "    <tr>\n",
       "      <th>2</th>\n",
       "      <td>3668-QPYBK</td>\n",
       "      <td>Male</td>\n",
       "      <td>0</td>\n",
       "      <td>No</td>\n",
       "      <td>No</td>\n",
       "      <td>2</td>\n",
       "      <td>Yes</td>\n",
       "      <td>No</td>\n",
       "      <td>DSL</td>\n",
       "      <td>Yes</td>\n",
       "      <td>...</td>\n",
       "      <td>No</td>\n",
       "      <td>No</td>\n",
       "      <td>No</td>\n",
       "      <td>No</td>\n",
       "      <td>Month-to-month</td>\n",
       "      <td>Yes</td>\n",
       "      <td>Mailed check</td>\n",
       "      <td>53.85</td>\n",
       "      <td>108.15</td>\n",
       "      <td>Yes</td>\n",
       "    </tr>\n",
       "    <tr>\n",
       "      <th>3</th>\n",
       "      <td>7795-CFOCW</td>\n",
       "      <td>Male</td>\n",
       "      <td>0</td>\n",
       "      <td>No</td>\n",
       "      <td>No</td>\n",
       "      <td>45</td>\n",
       "      <td>No</td>\n",
       "      <td>No phone service</td>\n",
       "      <td>DSL</td>\n",
       "      <td>Yes</td>\n",
       "      <td>...</td>\n",
       "      <td>Yes</td>\n",
       "      <td>Yes</td>\n",
       "      <td>No</td>\n",
       "      <td>No</td>\n",
       "      <td>One year</td>\n",
       "      <td>No</td>\n",
       "      <td>Bank transfer (automatic)</td>\n",
       "      <td>42.30</td>\n",
       "      <td>1840.75</td>\n",
       "      <td>No</td>\n",
       "    </tr>\n",
       "    <tr>\n",
       "      <th>4</th>\n",
       "      <td>9237-HQITU</td>\n",
       "      <td>Female</td>\n",
       "      <td>0</td>\n",
       "      <td>No</td>\n",
       "      <td>No</td>\n",
       "      <td>2</td>\n",
       "      <td>Yes</td>\n",
       "      <td>No</td>\n",
       "      <td>Fiber optic</td>\n",
       "      <td>No</td>\n",
       "      <td>...</td>\n",
       "      <td>No</td>\n",
       "      <td>No</td>\n",
       "      <td>No</td>\n",
       "      <td>No</td>\n",
       "      <td>Month-to-month</td>\n",
       "      <td>Yes</td>\n",
       "      <td>Electronic check</td>\n",
       "      <td>70.70</td>\n",
       "      <td>151.65</td>\n",
       "      <td>Yes</td>\n",
       "    </tr>\n",
       "  </tbody>\n",
       "</table>\n",
       "<p>5 rows × 21 columns</p>\n",
       "</div>"
      ],
      "text/plain": [
       "   customerID  gender  SeniorCitizen Partner Dependents  tenure PhoneService  \\\n",
       "0  7590-VHVEG  Female              0     Yes         No       1           No   \n",
       "1  5575-GNVDE    Male              0      No         No      34          Yes   \n",
       "2  3668-QPYBK    Male              0      No         No       2          Yes   \n",
       "3  7795-CFOCW    Male              0      No         No      45           No   \n",
       "4  9237-HQITU  Female              0      No         No       2          Yes   \n",
       "\n",
       "      MultipleLines InternetService OnlineSecurity  ... DeviceProtection  \\\n",
       "0  No phone service             DSL             No  ...               No   \n",
       "1                No             DSL            Yes  ...              Yes   \n",
       "2                No             DSL            Yes  ...               No   \n",
       "3  No phone service             DSL            Yes  ...              Yes   \n",
       "4                No     Fiber optic             No  ...               No   \n",
       "\n",
       "  TechSupport StreamingTV StreamingMovies        Contract PaperlessBilling  \\\n",
       "0          No          No              No  Month-to-month              Yes   \n",
       "1          No          No              No        One year               No   \n",
       "2          No          No              No  Month-to-month              Yes   \n",
       "3         Yes          No              No        One year               No   \n",
       "4          No          No              No  Month-to-month              Yes   \n",
       "\n",
       "               PaymentMethod MonthlyCharges  TotalCharges Churn  \n",
       "0           Electronic check          29.85         29.85    No  \n",
       "1               Mailed check          56.95        1889.5    No  \n",
       "2               Mailed check          53.85        108.15   Yes  \n",
       "3  Bank transfer (automatic)          42.30       1840.75    No  \n",
       "4           Electronic check          70.70        151.65   Yes  \n",
       "\n",
       "[5 rows x 21 columns]"
      ]
     },
     "execution_count": 3,
     "metadata": {},
     "output_type": "execute_result"
    }
   ],
   "source": [
    "df.head()"
   ]
  },
  {
   "cell_type": "markdown",
   "id": "a7e8d0d2",
   "metadata": {},
   "source": [
    "### Convert Total Charges variable to float for numeric analysis and impute median value for records converted to NA after float conversion"
   ]
  },
  {
   "cell_type": "code",
   "execution_count": 4,
   "id": "7cb0d227",
   "metadata": {},
   "outputs": [],
   "source": [
    "# convert the data type of TotalCharges from 'object' to 'float'\n",
    "df['TotalCharges'] = pd.to_numeric(df['TotalCharges'],errors='coerce')\n",
    "\n",
    "df.TotalCharges.fillna(value=df['TotalCharges'].median(),inplace=True)"
   ]
  },
  {
   "cell_type": "markdown",
   "id": "751b9a23",
   "metadata": {},
   "source": [
    "### Convert Tenure with the company into categories for new, middle, long-term customers. Break monthly charges into categories for low, medium, high monthly charges. Break total charges into categories for low, high total charges"
   ]
  },
  {
   "cell_type": "code",
   "execution_count": 5,
   "id": "0366b7e4",
   "metadata": {},
   "outputs": [],
   "source": [
    "# Convert Tenure with the company into categories for new, middle, long-term customers \n",
    "df.loc[df['tenure']<=15, 'tenureCat'] = \"New Customers\"\n",
    "df.loc[df['tenure'].between(16,50), 'tenureCat'] = \"Middle Customers\"\n",
    "df.loc[df['tenure']>=51, 'tenureCat'] = \"Long-Time Customers\"\n",
    "\n",
    "# Break monthly charges into categories for low, medium, high monthly charges \n",
    "df.loc[df['MonthlyCharges']<=35, 'MCC'] = \"0-35\"\n",
    "df.loc[df['MonthlyCharges'].between(36,65), 'MCC'] = \"36-65\"\n",
    "df.loc[df['MonthlyCharges']>=66, 'MCC'] = \">66\"\n",
    "\n",
    "# Break total charges into categories for low, high total charges \n",
    "df.loc[df['TotalCharges']<=2000, 'TCC'] = \"0-2000\"\n",
    "df.loc[df['TotalCharges']>=2001, 'TCC'] = \">2000\""
   ]
  },
  {
   "cell_type": "markdown",
   "id": "e732b2fd",
   "metadata": {},
   "source": [
    "### Convert categorical variables into numeric categories"
   ]
  },
  {
   "cell_type": "code",
   "execution_count": 6,
   "id": "8ffb3dc2",
   "metadata": {},
   "outputs": [],
   "source": [
    "df['gender'] =df['gender'].astype('category').cat.codes\n",
    "df['tenure'] =df['tenure'].astype('category').cat.codes\n",
    "df['SeniorCitizen'] =df['SeniorCitizen'].astype('category').cat.codes\n",
    "df['Partner'] =df['Partner'].astype('category').cat.codes\n",
    "df['Dependents'] =df['Dependents'].astype('category').cat.codes\n",
    "df['PhoneService'] =df['PhoneService'].astype('category').cat.codes\n",
    "df['MultipleLines'] =df['MultipleLines'].astype('category').cat.codes\n",
    "df['InternetService'] =df['InternetService'].astype('category').cat.codes\n",
    "df['OnlineSecurity'] =df['OnlineSecurity'].astype('category').cat.codes\n",
    "df['OnlineBackup'] =df['OnlineBackup'].astype('category').cat.codes\n",
    "df['DeviceProtection'] =df['DeviceProtection'].astype('category').cat.codes\n",
    "df['TechSupport'] =df['TechSupport'].astype('category').cat.codes\n",
    "df['StreamingTV'] =df['StreamingTV'].astype('category').cat.codes\n",
    "df['StreamingMovies'] =df['StreamingMovies'].astype('category').cat.codes\n",
    "df['Contract'] =df['Contract'].astype('category').cat.codes\n",
    "df['PaperlessBilling'] =df['PaperlessBilling'].astype('category').cat.codes\n",
    "df['PaymentMethod'] =df['PaymentMethod'].astype('category').cat.codes\n",
    "df['Churn'] =df['Churn'].astype('category').cat.codes\n",
    "# User created categorical variabels \n",
    "df['tenureCat'] =df['tenureCat'].astype('category').cat.codes\n",
    "df['TCC'] =df['TCC'].astype('category').cat.codes\n",
    "df['MCC'] =df['MCC'].astype('category').cat.codes"
   ]
  },
  {
   "cell_type": "markdown",
   "id": "a89199db",
   "metadata": {},
   "source": [
    "### Drop customerID, as we will not need it for modeling "
   ]
  },
  {
   "cell_type": "code",
   "execution_count": 7,
   "id": "30279639",
   "metadata": {},
   "outputs": [
    {
     "data": {
      "text/html": [
       "<div>\n",
       "<style scoped>\n",
       "    .dataframe tbody tr th:only-of-type {\n",
       "        vertical-align: middle;\n",
       "    }\n",
       "\n",
       "    .dataframe tbody tr th {\n",
       "        vertical-align: top;\n",
       "    }\n",
       "\n",
       "    .dataframe thead th {\n",
       "        text-align: right;\n",
       "    }\n",
       "</style>\n",
       "<table border=\"1\" class=\"dataframe\">\n",
       "  <thead>\n",
       "    <tr style=\"text-align: right;\">\n",
       "      <th></th>\n",
       "      <th>gender</th>\n",
       "      <th>SeniorCitizen</th>\n",
       "      <th>Partner</th>\n",
       "      <th>Dependents</th>\n",
       "      <th>tenure</th>\n",
       "      <th>PhoneService</th>\n",
       "      <th>MultipleLines</th>\n",
       "      <th>InternetService</th>\n",
       "      <th>OnlineSecurity</th>\n",
       "      <th>OnlineBackup</th>\n",
       "      <th>...</th>\n",
       "      <th>StreamingMovies</th>\n",
       "      <th>Contract</th>\n",
       "      <th>PaperlessBilling</th>\n",
       "      <th>PaymentMethod</th>\n",
       "      <th>MonthlyCharges</th>\n",
       "      <th>TotalCharges</th>\n",
       "      <th>Churn</th>\n",
       "      <th>tenureCat</th>\n",
       "      <th>MCC</th>\n",
       "      <th>TCC</th>\n",
       "    </tr>\n",
       "  </thead>\n",
       "  <tbody>\n",
       "    <tr>\n",
       "      <th>0</th>\n",
       "      <td>0</td>\n",
       "      <td>0</td>\n",
       "      <td>1</td>\n",
       "      <td>0</td>\n",
       "      <td>1</td>\n",
       "      <td>0</td>\n",
       "      <td>1</td>\n",
       "      <td>0</td>\n",
       "      <td>0</td>\n",
       "      <td>2</td>\n",
       "      <td>...</td>\n",
       "      <td>0</td>\n",
       "      <td>0</td>\n",
       "      <td>1</td>\n",
       "      <td>2</td>\n",
       "      <td>29.85</td>\n",
       "      <td>29.85</td>\n",
       "      <td>0</td>\n",
       "      <td>2</td>\n",
       "      <td>0</td>\n",
       "      <td>0</td>\n",
       "    </tr>\n",
       "    <tr>\n",
       "      <th>1</th>\n",
       "      <td>1</td>\n",
       "      <td>0</td>\n",
       "      <td>0</td>\n",
       "      <td>0</td>\n",
       "      <td>34</td>\n",
       "      <td>1</td>\n",
       "      <td>0</td>\n",
       "      <td>0</td>\n",
       "      <td>2</td>\n",
       "      <td>0</td>\n",
       "      <td>...</td>\n",
       "      <td>0</td>\n",
       "      <td>1</td>\n",
       "      <td>0</td>\n",
       "      <td>3</td>\n",
       "      <td>56.95</td>\n",
       "      <td>1889.50</td>\n",
       "      <td>0</td>\n",
       "      <td>1</td>\n",
       "      <td>1</td>\n",
       "      <td>0</td>\n",
       "    </tr>\n",
       "    <tr>\n",
       "      <th>2</th>\n",
       "      <td>1</td>\n",
       "      <td>0</td>\n",
       "      <td>0</td>\n",
       "      <td>0</td>\n",
       "      <td>2</td>\n",
       "      <td>1</td>\n",
       "      <td>0</td>\n",
       "      <td>0</td>\n",
       "      <td>2</td>\n",
       "      <td>2</td>\n",
       "      <td>...</td>\n",
       "      <td>0</td>\n",
       "      <td>0</td>\n",
       "      <td>1</td>\n",
       "      <td>3</td>\n",
       "      <td>53.85</td>\n",
       "      <td>108.15</td>\n",
       "      <td>1</td>\n",
       "      <td>2</td>\n",
       "      <td>1</td>\n",
       "      <td>0</td>\n",
       "    </tr>\n",
       "    <tr>\n",
       "      <th>3</th>\n",
       "      <td>1</td>\n",
       "      <td>0</td>\n",
       "      <td>0</td>\n",
       "      <td>0</td>\n",
       "      <td>45</td>\n",
       "      <td>0</td>\n",
       "      <td>1</td>\n",
       "      <td>0</td>\n",
       "      <td>2</td>\n",
       "      <td>0</td>\n",
       "      <td>...</td>\n",
       "      <td>0</td>\n",
       "      <td>1</td>\n",
       "      <td>0</td>\n",
       "      <td>0</td>\n",
       "      <td>42.30</td>\n",
       "      <td>1840.75</td>\n",
       "      <td>0</td>\n",
       "      <td>1</td>\n",
       "      <td>1</td>\n",
       "      <td>0</td>\n",
       "    </tr>\n",
       "    <tr>\n",
       "      <th>4</th>\n",
       "      <td>0</td>\n",
       "      <td>0</td>\n",
       "      <td>0</td>\n",
       "      <td>0</td>\n",
       "      <td>2</td>\n",
       "      <td>1</td>\n",
       "      <td>0</td>\n",
       "      <td>1</td>\n",
       "      <td>0</td>\n",
       "      <td>0</td>\n",
       "      <td>...</td>\n",
       "      <td>0</td>\n",
       "      <td>0</td>\n",
       "      <td>1</td>\n",
       "      <td>2</td>\n",
       "      <td>70.70</td>\n",
       "      <td>151.65</td>\n",
       "      <td>1</td>\n",
       "      <td>2</td>\n",
       "      <td>2</td>\n",
       "      <td>0</td>\n",
       "    </tr>\n",
       "  </tbody>\n",
       "</table>\n",
       "<p>5 rows × 23 columns</p>\n",
       "</div>"
      ],
      "text/plain": [
       "   gender  SeniorCitizen  Partner  Dependents  tenure  PhoneService  \\\n",
       "0       0              0        1           0       1             0   \n",
       "1       1              0        0           0      34             1   \n",
       "2       1              0        0           0       2             1   \n",
       "3       1              0        0           0      45             0   \n",
       "4       0              0        0           0       2             1   \n",
       "\n",
       "   MultipleLines  InternetService  OnlineSecurity  OnlineBackup  ...  \\\n",
       "0              1                0               0             2  ...   \n",
       "1              0                0               2             0  ...   \n",
       "2              0                0               2             2  ...   \n",
       "3              1                0               2             0  ...   \n",
       "4              0                1               0             0  ...   \n",
       "\n",
       "   StreamingMovies  Contract  PaperlessBilling  PaymentMethod  MonthlyCharges  \\\n",
       "0                0         0                 1              2           29.85   \n",
       "1                0         1                 0              3           56.95   \n",
       "2                0         0                 1              3           53.85   \n",
       "3                0         1                 0              0           42.30   \n",
       "4                0         0                 1              2           70.70   \n",
       "\n",
       "   TotalCharges  Churn  tenureCat  MCC  TCC  \n",
       "0         29.85      0          2    0    0  \n",
       "1       1889.50      0          1    1    0  \n",
       "2        108.15      1          2    1    0  \n",
       "3       1840.75      0          1    1    0  \n",
       "4        151.65      1          2    2    0  \n",
       "\n",
       "[5 rows x 23 columns]"
      ]
     },
     "execution_count": 7,
     "metadata": {},
     "output_type": "execute_result"
    }
   ],
   "source": [
    "df = df.drop('customerID', 1)\n",
    "\n",
    "df.head()"
   ]
  },
  {
   "cell_type": "markdown",
   "id": "c5fc6df1",
   "metadata": {},
   "source": [
    "### We identified highly correlated features to see if removal of them improved scoring, but it did not so all variables were kept"
   ]
  },
  {
   "cell_type": "code",
   "execution_count": 8,
   "id": "11a70d38",
   "metadata": {},
   "outputs": [],
   "source": [
    "# # Create correlation matrix\n",
    "# corr_matrix = df.corr().abs()\n",
    "\n",
    "# # Select upper triangle of correlation matrix\n",
    "# upper = corr_matrix.where(np.triu(np.ones(corr_matrix.shape), k=1).astype(np.bool))\n",
    "\n",
    "# # Find features with correlation greater than 0.90\n",
    "# to_drop = [column for column in upper.columns if any(upper[column] > 0.90)]\n",
    "\n",
    "# to_drop\n",
    "\n",
    "# # Drop features \n",
    "# df.drop(to_drop, axis=1, inplace=True)"
   ]
  },
  {
   "cell_type": "markdown",
   "id": "f2d8e163",
   "metadata": {},
   "source": [
    "### Split Dataset into test/train. We will test accuracy outputs with a standardized dataset and a dataset using polynomial varibles to determine what yields the best output"
   ]
  },
  {
   "cell_type": "code",
   "execution_count": 17,
   "id": "4f850053",
   "metadata": {},
   "outputs": [],
   "source": [
    "# split features from outcomes for model prep\n",
    "x_unscaled = df.iloc[:, [0,1,2,3,4,5,6,7,8,9,10,11,12,13,14,15,16,17,18,20,21,22]]\n",
    "y = df.iloc[:, 19]\n",
    "\n",
    "# Add polynomial features to x \n",
    "polynomial_features= PolynomialFeatures(degree=2)\n",
    "x_poly = polynomial_features.fit_transform(x_unscaled)\n",
    "\n",
    "# split the data for modeling\n",
    "x_train, x_test, y_train, y_test = train_test_split(x_unscaled, y, test_size=0.2, random_state = 42)\n",
    "\n",
    "# split the data using polynomial features for x and log value for y\n",
    "x_trainPoly, x_testPoly, y_trainPoly, y_testPoly = train_test_split(x_poly, y, test_size=0.2, random_state = 42)"
   ]
  },
  {
   "cell_type": "markdown",
   "id": "63dc0fa1",
   "metadata": {},
   "source": [
    "### Conduct standard scaling on the dataset. For the training dataset we will fit and normalize. For the test dataset we will just trasnform the variables, using the same params that it learned from the training data"
   ]
  },
  {
   "cell_type": "code",
   "execution_count": 11,
   "id": "e01d7076",
   "metadata": {},
   "outputs": [],
   "source": [
    "# Conduct Standard Scaling \n",
    "scaler = StandardScaler()\n",
    "x_train = scaler.fit_transform( x_train )\n",
    "x_test = scaler.transform( x_test )"
   ]
  },
  {
   "cell_type": "markdown",
   "id": "f8a32d6f",
   "metadata": {},
   "source": [
    "### SMOTE was tested to see if it would increase scoring metrics due to the imbalanced dataset. Negative MSE increases, but F-1 scoring and accuracy improved slightly without SMOTE"
   ]
  },
  {
   "cell_type": "code",
   "execution_count": 11,
   "id": "b7a390ba",
   "metadata": {},
   "outputs": [],
   "source": [
    "# sm = SMOTE()\n",
    "# x_train, y_train = sm.fit_resample(x_train, y_train)\n",
    "\n",
    "# # check shape of x_train and y_train, and new response variable ratio\n",
    "# print(x_train.shape)\n",
    "# print(y_train.shape)\n",
    "# print(y_train.value_counts(normalize = True))"
   ]
  },
  {
   "cell_type": "markdown",
   "id": "4953ba70",
   "metadata": {},
   "source": [
    "### We will run our training dataset through a number of different binary classification models, using negative mean squared error as a measuring stick to determine which models may provide optimized outputs. \n",
    "\n",
    "### As we can see, models employing ensemble learning perform better than standard binary classification models \n",
    "\n",
    "### Polynomial features vs. scaled features seem to yield fairly similar negative MSE results, with the standardized features performing *slightly* better "
   ]
  },
  {
   "cell_type": "code",
   "execution_count": 22,
   "id": "4cdd57be",
   "metadata": {
    "scrolled": true
   },
   "outputs": [
    {
     "name": "stdout",
     "output_type": "stream",
     "text": [
      "LogisticRegression: -0.199499 (0.019646) Log Outputs: -0.226652 (0.028857)\n",
      "KNearestNeighbors: -0.241735 (0.018188) Log Outputs: -0.243331 (0.022956)\n",
      "LinearSVC: -0.220096 (0.030239) Log Outputs: -0.405905 (0.162636)\n",
      "DecisionTree: -0.274755 (0.011049) Log Outputs: -0.271208 (0.015003)\n",
      "BaggingClassifier: -0.227537 (0.017329) Log Outputs: -0.222925 (0.020575)\n",
      "BoostClassifier: -0.213872 (0.019165) Log Outputs: -0.216179 (0.017334)\n",
      "RandomForest: -0.203760 (0.017201) Log Outputs: -0.209079 (0.021764)\n",
      "GradientBoost: -0.198432 (0.018347) Log Outputs: -0.199320 (0.018944)\n"
     ]
    }
   ],
   "source": [
    "pipelines = []\n",
    "# Standard binary classification models \n",
    "pipelines.append(('LogisticRegression', Pipeline([('LR',linear_model.LogisticRegression(max_iter=1000))])))\n",
    "pipelines.append(('KNearestNeighbors', Pipeline([('KNN',KNeighborsClassifier(algorithm = 'brute', n_jobs=-1))])))\n",
    "pipelines.append(('LinearSVC', Pipeline([('SVC',LinearSVC(C=0.0001))])))\n",
    "pipelines.append(('DecisionTree', Pipeline([('DTREE',DecisionTreeClassifier())])))\n",
    "# Employment of ensemble learning \n",
    "pipelines.append(('BaggingClassifier', Pipeline([('BAG',BaggingClassifier(DecisionTreeClassifier(),max_samples=0.5,max_features=1.0,n_estimators=10))])))\n",
    "pipelines.append(('BoostClassifier', Pipeline([('BOOST',AdaBoostClassifier(DecisionTreeClassifier(min_samples_split=10,max_depth=4),n_estimators=10,learning_rate=0.6))])))\n",
    "pipelines.append(('RandomForest', Pipeline([('FOREST',RandomForestClassifier(n_estimators=30, max_depth=9))])))\n",
    "pipelines.append(('GradientBoost', Pipeline([('GBoost',GradientBoostingClassifier())])))\n",
    "\n",
    "results = []\n",
    "names = []\n",
    "for name, model in pipelines:\n",
    "    kfold = KFold(n_splits=10, random_state=21, shuffle=True)\n",
    "    # Data using standard scaling\n",
    "    cv_results = cross_val_score(model, x_train, y_train, cv=kfold, scoring='neg_mean_squared_error')\n",
    "    # Data using polynomial features \n",
    "    cv_poly_results = cross_val_score(model, x_trainPoly, y_trainPoly, cv=kfold, scoring='neg_mean_squared_error')\n",
    "    results.append(cv_results)\n",
    "    results.append(cv_poly_results)\n",
    "    names.append(name)\n",
    "    msg = \"%s: %f (%f) %s: %f (%f)\" % (name, cv_results.mean(), cv_results.std(), 'Log Outputs', cv_poly_results.mean(), cv_poly_results.std())\n",
    "    print(msg)"
   ]
  },
  {
   "cell_type": "markdown",
   "id": "783dbbbd",
   "metadata": {},
   "source": [
    "### We will move forward analyzing only our top 3 performing ensemble learning models: Gradient Boosting, ADA Boosting, and Random Forest "
   ]
  },
  {
   "cell_type": "markdown",
   "id": "de73701c",
   "metadata": {},
   "source": [
    "### Looking at accuracy scoring for the top 3 models, we can see that the Gradient Boosting model yields the best test accuracy and the polynomial features yield better accuracy than the standardized features. We can also see that the Random Forest model is dealing with overfitting issues"
   ]
  },
  {
   "cell_type": "code",
   "execution_count": 23,
   "id": "9c13e2d6",
   "metadata": {},
   "outputs": [
    {
     "name": "stdout",
     "output_type": "stream",
     "text": [
      "Standard Scaling Accuracy:---------------------------------------\n",
      "GradientBoostingClassifier() Train Accuracy:  82.73\n",
      "GradientBoostingClassifier() Test Accuracy:  80.55 \n",
      "\n",
      "AdaBoostClassifier() Train Accuracy:  80.9\n",
      "AdaBoostClassifier() Test Accuracy:  80.34 \n",
      "\n",
      "RandomForestClassifier() Train Accuracy:  99.86\n",
      "RandomForestClassifier() Test Accuracy:  79.13 \n",
      "\n",
      "Standard Scaling Accuracy with Log:---------------------------------------\n",
      "GradientBoostingClassifier() Train Accuracy:  83.62\n",
      "GradientBoostingClassifier() Test Accuracy:  80.91 \n",
      "\n",
      "AdaBoostClassifier() Train Accuracy:  81.19\n",
      "AdaBoostClassifier() Test Accuracy:  80.7 \n",
      "\n",
      "RandomForestClassifier() Train Accuracy:  99.86\n",
      "RandomForestClassifier() Test Accuracy:  78.92 \n",
      "\n"
     ]
    }
   ],
   "source": [
    "# Establish models of interest to input into accuracy function\n",
    "gbm = GradientBoostingClassifier()\n",
    "ada = AdaBoostClassifier(DecisionTreeClassifier(min_samples_split=10,max_depth=4),n_estimators=10,learning_rate=0.6)\n",
    "rfc = RandomForestClassifier(n_estimators=30, max_depth=9)\n",
    "\n",
    "# Produce and save the model, then load and apply the model.\n",
    "def model_scoring(name, model, trainX, trainy, testX, testy):\n",
    "    name = model()\n",
    "    name.fit(trainX, trainy)\n",
    "    predictions = name.predict(testX)\n",
    "    train_score = round(name.score(trainX, trainy) * 100, 2)\n",
    "    test_score = round(name.score(testX, testy) * 100, 2)\n",
    "    print(name, \"Train Accuracy: \", train_score)\n",
    "    print(name, \"Test Accuracy: \", test_score, '\\n')\n",
    "\n",
    "# Output Accuracy scoring for train and test sets, looking at the Standard and Log Response Variables \n",
    "print(\"Standard Scaling Accuracy:---------------------------------------\")\n",
    "model_scoring(gbm, GradientBoostingClassifier, x_train, y_train, x_test, y_test)\n",
    "model_scoring(ada, AdaBoostClassifier, x_train, y_train, x_test, y_test)\n",
    "model_scoring(rfc, RandomForestClassifier, x_train, y_train, x_test, y_test)\n",
    "\n",
    "# This looks at accuracy scoring with polynomial values for feature variables \n",
    "print(\"Standard Scaling Accuracy with Log:---------------------------------------\")\n",
    "model_scoring(gbm, GradientBoostingClassifier, x_trainPoly, y_trainPoly, x_testPoly, y_testPoly)\n",
    "model_scoring(ada, AdaBoostClassifier, x_trainPoly, y_trainPoly, x_testPoly, y_testPoly)\n",
    "model_scoring(rfc, RandomForestClassifier, x_trainPoly, y_trainPoly, x_testPoly, y_testPoly)"
   ]
  },
  {
   "cell_type": "markdown",
   "id": "75fcf11b",
   "metadata": {},
   "source": [
    "### Additional scoring outputs. We will use the polynomial features moving forward, as we are most concerned with model accuracy "
   ]
  },
  {
   "cell_type": "code",
   "execution_count": 29,
   "id": "6464d79d",
   "metadata": {},
   "outputs": [],
   "source": [
    "def roc_curve(model):\n",
    "    probs = model.predict_proba(x_testPoly)\n",
    "    preds = probs[:,1]\n",
    "    fpr, tpr, threshold = metrics.roc_curve(y_testPoly, preds)\n",
    "    roc_auc = metrics.auc(fpr, tpr)\n",
    "\n",
    "    plt.figure()\n",
    "    plt.plot(fpr, tpr, label='GridSearchCV (area = %0.2f)' % roc_auc)\n",
    "    plt.plot([0, 1], [0, 1],'r--')\n",
    "    plt.xlim([0.0, 1.0])\n",
    "    plt.ylim([0.0, 1.05])\n",
    "    plt.xlabel('False Positive Rate')\n",
    "    plt.ylabel('True Positive Rate')\n",
    "    plt.title('Receiver operating characteristic')\n",
    "    plt.legend(loc=\"lower right\")\n",
    "    plt.savefig('Log_ROC')\n",
    "    plt.show()"
   ]
  },
  {
   "cell_type": "markdown",
   "id": "54f40737",
   "metadata": {},
   "source": [
    "### Gradient Boost Classification"
   ]
  },
  {
   "cell_type": "code",
   "execution_count": 25,
   "id": "7287ede8",
   "metadata": {},
   "outputs": [
    {
     "name": "stdout",
     "output_type": "stream",
     "text": [
      "\n",
      "Gradient Boosting Classifier Confusion Matrix\n",
      " [[935 101]\n",
      " [168 205]]\n"
     ]
    },
    {
     "data": {
      "image/png": "[encoded data removed]",
      "text/plain": [
       "<Figure size 432x288 with 2 Axes>"
      ]
     },
     "metadata": {
      "needs_background": "light"
     },
     "output_type": "display_data"
    },
    {
     "name": "stdout",
     "output_type": "stream",
     "text": [
      "\n",
      "Logistic Regression Confusion Matrix\n",
      "               precision    recall  f1-score   support\n",
      "\n",
      "           0       0.85      0.90      0.87      1036\n",
      "           1       0.67      0.55      0.60       373\n",
      "\n",
      "    accuracy                           0.81      1409\n",
      "   macro avg       0.76      0.73      0.74      1409\n",
      "weighted avg       0.80      0.81      0.80      1409\n",
      "\n",
      "\n",
      "Accuracy: 0.809\n"
     ]
    }
   ],
   "source": [
    "#Produce and save the model, then load and apply the model.\n",
    "gbm = GradientBoostingClassifier()\n",
    "gbm.fit(x_trainPoly, y_trainPoly)\n",
    "gbm_predictions = gbm.predict(x_testPoly)\n",
    "\n",
    "gbm_matrix = metrics.confusion_matrix(y_testPoly,gbm_predictions)\n",
    "print(\"\\nGradient Boosting Classifier Confusion Matrix\\n\",gbm_matrix)\n",
    "\n",
    "plot_confusion_matrix(gbm, x_testPoly, y_testPoly)  \n",
    "plt.show()\n",
    "\n",
    "class_report_gbm = classification_report(y_testPoly, gbm_predictions)\n",
    "print(\"\\nLogistic Regression Confusion Matrix\\n\",class_report_gbm)\n",
    "\n",
    "print(\"\\nAccuracy:\",round(metrics.accuracy_score(y_testPoly,gbm_predictions),3))"
   ]
  },
  {
   "cell_type": "code",
   "execution_count": 30,
   "id": "24952e96",
   "metadata": {},
   "outputs": [
    {
     "data": {
      "image/png": "[encoded data removed]",
      "text/plain": [
       "<Figure size 432x288 with 1 Axes>"
      ]
     },
     "metadata": {
      "needs_background": "light"
     },
     "output_type": "display_data"
    }
   ],
   "source": [
    "roc_curve(gbm)"
   ]
  },
  {
   "cell_type": "markdown",
   "id": "7f5fdaab",
   "metadata": {},
   "source": [
    "### Boost Classification Model "
   ]
  },
  {
   "cell_type": "code",
   "execution_count": 32,
   "id": "463bd119",
   "metadata": {},
   "outputs": [
    {
     "name": "stdout",
     "output_type": "stream",
     "text": [
      "\n",
      "Gradient Boosting Classifier Confusion Matrix\n",
      " [[933 103]\n",
      " [169 204]]\n"
     ]
    },
    {
     "data": {
      "image/png": "[encoded data removed]",
      "text/plain": [
       "<Figure size 432x288 with 2 Axes>"
      ]
     },
     "metadata": {
      "needs_background": "light"
     },
     "output_type": "display_data"
    },
    {
     "name": "stdout",
     "output_type": "stream",
     "text": [
      "\n",
      "Logistic Regression Confusion Matrix\n",
      "               precision    recall  f1-score   support\n",
      "\n",
      "           0       0.85      0.90      0.87      1036\n",
      "           1       0.66      0.55      0.60       373\n",
      "\n",
      "    accuracy                           0.81      1409\n",
      "   macro avg       0.76      0.72      0.74      1409\n",
      "weighted avg       0.80      0.81      0.80      1409\n",
      "\n",
      "\n",
      "Accuracy: 0.807\n"
     ]
    }
   ],
   "source": [
    "#Produce and save the model, then load and apply the model.\n",
    "ada = AdaBoostClassifier(DecisionTreeClassifier(min_samples_split=10,max_depth=4),n_estimators=10,learning_rate=0.6)\n",
    "ada.fit(x_trainPoly, y_trainPoly)\n",
    "ada_predictions = ada.predict(x_testPoly)\n",
    "\n",
    "ada_matrix = metrics.confusion_matrix(y_testPoly,ada_predictions)\n",
    "print(\"\\nGradient Boosting Classifier Confusion Matrix\\n\",ada_matrix)\n",
    "\n",
    "plot_confusion_matrix(ada, x_testPoly, y_testPoly)  \n",
    "plt.show()\n",
    "\n",
    "class_report_ada = classification_report(y_testPoly, ada_predictions)\n",
    "print(\"\\nLogistic Regression Confusion Matrix\\n\",class_report_ada)\n",
    "\n",
    "print(\"\\nAccuracy:\",round(metrics.accuracy_score(y_testPoly,ada_predictions),3))"
   ]
  },
  {
   "cell_type": "code",
   "execution_count": 33,
   "id": "9a50344f",
   "metadata": {},
   "outputs": [
    {
     "data": {
      "image/png": "[encoded data removed]",
      "text/plain": [
       "<Figure size 432x288 with 1 Axes>"
      ]
     },
     "metadata": {
      "needs_background": "light"
     },
     "output_type": "display_data"
    }
   ],
   "source": [
    "roc_curve(ada)"
   ]
  },
  {
   "cell_type": "markdown",
   "id": "58680b45",
   "metadata": {},
   "source": [
    "### Random Forest "
   ]
  },
  {
   "cell_type": "code",
   "execution_count": 34,
   "id": "f9a6471a",
   "metadata": {},
   "outputs": [
    {
     "name": "stdout",
     "output_type": "stream",
     "text": [
      "\n",
      "Gradient Boosting Classifier Confusion Matrix\n",
      " [[935 101]\n",
      " [172 201]]\n"
     ]
    },
    {
     "data": {
      "image/png": "[encoded data removed]",
      "text/plain": [
       "<Figure size 432x288 with 2 Axes>"
      ]
     },
     "metadata": {
      "needs_background": "light"
     },
     "output_type": "display_data"
    },
    {
     "name": "stdout",
     "output_type": "stream",
     "text": [
      "\n",
      "Logistic Regression Confusion Matrix\n",
      "               precision    recall  f1-score   support\n",
      "\n",
      "           0       0.84      0.90      0.87      1036\n",
      "           1       0.67      0.54      0.60       373\n",
      "\n",
      "    accuracy                           0.81      1409\n",
      "   macro avg       0.76      0.72      0.73      1409\n",
      "weighted avg       0.80      0.81      0.80      1409\n",
      "\n",
      "\n",
      "Accuracy: 0.806\n"
     ]
    }
   ],
   "source": [
    "#Produce and save the model, then load and apply the model.\n",
    "rfc = RandomForestClassifier(n_estimators=30, max_depth=9)\n",
    "rfc.fit(x_trainPoly, y_trainPoly)\n",
    "rfc_predictions = rfc.predict(x_testPoly)\n",
    "\n",
    "rfc_matrix = metrics.confusion_matrix(y_testPoly,rfc_predictions)\n",
    "print(\"\\nGradient Boosting Classifier Confusion Matrix\\n\",rfc_matrix)\n",
    "\n",
    "plot_confusion_matrix(rfc, x_testPoly, y_testPoly)  \n",
    "plt.show()\n",
    "\n",
    "class_report_rfc = classification_report(y_testPoly, rfc_predictions)\n",
    "print(\"\\nLogistic Regression Confusion Matrix\\n\",class_report_rfc)\n",
    "\n",
    "print(\"\\nAccuracy:\",round(metrics.accuracy_score(y_testPoly,rfc_predictions),3))"
   ]
  },
  {
   "cell_type": "code",
   "execution_count": 35,
   "id": "9c1f86a5",
   "metadata": {},
   "outputs": [
    {
     "data": {
      "image/png": "[encoded data removed]",
      "text/plain": [
       "<Figure size 432x288 with 1 Axes>"
      ]
     },
     "metadata": {
      "needs_background": "light"
     },
     "output_type": "display_data"
    }
   ],
   "source": [
    "roc_curve(rfc)"
   ]
  },
  {
   "cell_type": "code",
   "execution_count": null,
   "id": "e6371721",
   "metadata": {},
   "outputs": [],
   "source": []
  }
 ],
 "metadata": {
  "kernelspec": {
   "display_name": "Python 3",
   "language": "python",
   "name": "python3"
  },
  "language_info": {
   "codemirror_mode": {
    "name": "ipython",
    "version": 3
   },
   "file_extension": ".py",
   "mimetype": "text/x-python",
   "name": "python",
   "nbconvert_exporter": "python",
   "pygments_lexer": "ipython3",
   "version": "3.8.8"
  }
 },
 "nbformat": 4,
 "nbformat_minor": 5
}
