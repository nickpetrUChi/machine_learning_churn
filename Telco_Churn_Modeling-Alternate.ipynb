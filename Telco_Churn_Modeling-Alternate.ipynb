{
 "cells": [
  {
   "cell_type": "markdown",
   "id": "987ba89a",
   "metadata": {},
   "source": [
    "## Telco Customer Churn - Modeling "
   ]
  },
  {
   "cell_type": "markdown",
   "id": "bc90ee6d",
   "metadata": {},
   "source": [
    "### Import required packages and load dataset"
   ]
  },
  {
   "cell_type": "code",
   "execution_count": 1,
   "id": "1bd43dfb",
   "metadata": {},
   "outputs": [],
   "source": [
    "# general packages\n",
    "import pandas as pd\n",
    "import matplotlib.pyplot as plt\n",
    "import pandas as pd\n",
    "import seaborn as sns\n",
    "import numpy as np\n",
    "import warnings\n",
    "warnings.filterwarnings(\"ignore\")\n",
    "import pickle\n",
    "\n",
    "# sklearn packages\n",
    "from sklearn.model_selection import train_test_split\n",
    "from sklearn.preprocessing import StandardScaler, PolynomialFeatures\n",
    "from sklearn import linear_model, metrics\n",
    "from sklearn.model_selection import GridSearchCV, RepeatedStratifiedKFold, train_test_split, cross_val_score\n",
    "from sklearn.feature_selection import SelectKBest\n",
    "from sklearn.feature_selection import chi2\n",
    "from sklearn.linear_model import LogisticRegression\n",
    "from sklearn.linear_model import LinearRegression\n",
    "from sklearn.naive_bayes import MultinomialNB\n",
    "from sklearn.neighbors import KNeighborsClassifier\n",
    "from sklearn.svm import LinearSVC\n",
    "from sklearn.tree import DecisionTreeClassifier\n",
    "from sklearn.pipeline import Pipeline\n",
    "from sklearn.model_selection import KFold\n",
    "from sklearn.ensemble import BaggingClassifier, AdaBoostClassifier, RandomForestClassifier, GradientBoostingClassifier\n",
    "from xgboost.sklearn import XGBClassifier\n",
    "from sklearn.metrics import plot_confusion_matrix,classification_report\n",
    "from sklearn.neural_network import MLPClassifier\n",
    "\n",
    "# imbelearn package\n",
    "from imblearn.over_sampling import SMOTE\n",
    "\n",
    "# mlxtend package\n",
    "from mlxtend.feature_selection import SequentialFeatureSelector as sfs"
   ]
  },
  {
   "cell_type": "code",
   "execution_count": 2,
   "id": "dd5bc863",
   "metadata": {},
   "outputs": [
    {
     "name": "stdout",
     "output_type": "stream",
     "text": [
      "<class 'pandas.core.frame.DataFrame'>\n",
      "RangeIndex: 7043 entries, 0 to 7042\n",
      "Data columns (total 21 columns):\n",
      " #   Column            Non-Null Count  Dtype  \n",
      "---  ------            --------------  -----  \n",
      " 0   customerID        7043 non-null   object \n",
      " 1   gender            7043 non-null   object \n",
      " 2   SeniorCitizen     7043 non-null   int64  \n",
      " 3   Partner           7043 non-null   object \n",
      " 4   Dependents        7043 non-null   object \n",
      " 5   tenure            7043 non-null   int64  \n",
      " 6   PhoneService      7043 non-null   object \n",
      " 7   MultipleLines     7043 non-null   object \n",
      " 8   InternetService   7043 non-null   object \n",
      " 9   OnlineSecurity    7043 non-null   object \n",
      " 10  OnlineBackup      7043 non-null   object \n",
      " 11  DeviceProtection  7043 non-null   object \n",
      " 12  TechSupport       7043 non-null   object \n",
      " 13  StreamingTV       7043 non-null   object \n",
      " 14  StreamingMovies   7043 non-null   object \n",
      " 15  Contract          7043 non-null   object \n",
      " 16  PaperlessBilling  7043 non-null   object \n",
      " 17  PaymentMethod     7043 non-null   object \n",
      " 18  MonthlyCharges    7043 non-null   float64\n",
      " 19  TotalCharges      7043 non-null   object \n",
      " 20  Churn             7043 non-null   object \n",
      "dtypes: float64(1), int64(2), object(18)\n",
      "memory usage: 1.1+ MB\n"
     ]
    }
   ],
   "source": [
    "df = pd.read_csv('WA_Fn-UseC_-Telco-Customer-Churn.csv', sep = ',')\n",
    "\n",
    "# print first few rows of df \n",
    "df.info()"
   ]
  },
  {
   "cell_type": "code",
   "execution_count": 3,
   "id": "452d61cf",
   "metadata": {},
   "outputs": [
    {
     "data": {
      "text/html": [
       "<div>\n",
       "<style scoped>\n",
       "    .dataframe tbody tr th:only-of-type {\n",
       "        vertical-align: middle;\n",
       "    }\n",
       "\n",
       "    .dataframe tbody tr th {\n",
       "        vertical-align: top;\n",
       "    }\n",
       "\n",
       "    .dataframe thead th {\n",
       "        text-align: right;\n",
       "    }\n",
       "</style>\n",
       "<table border=\"1\" class=\"dataframe\">\n",
       "  <thead>\n",
       "    <tr style=\"text-align: right;\">\n",
       "      <th></th>\n",
       "      <th>customerID</th>\n",
       "      <th>gender</th>\n",
       "      <th>SeniorCitizen</th>\n",
       "      <th>Partner</th>\n",
       "      <th>Dependents</th>\n",
       "      <th>tenure</th>\n",
       "      <th>PhoneService</th>\n",
       "      <th>MultipleLines</th>\n",
       "      <th>InternetService</th>\n",
       "      <th>OnlineSecurity</th>\n",
       "      <th>...</th>\n",
       "      <th>DeviceProtection</th>\n",
       "      <th>TechSupport</th>\n",
       "      <th>StreamingTV</th>\n",
       "      <th>StreamingMovies</th>\n",
       "      <th>Contract</th>\n",
       "      <th>PaperlessBilling</th>\n",
       "      <th>PaymentMethod</th>\n",
       "      <th>MonthlyCharges</th>\n",
       "      <th>TotalCharges</th>\n",
       "      <th>Churn</th>\n",
       "    </tr>\n",
       "  </thead>\n",
       "  <tbody>\n",
       "    <tr>\n",
       "      <th>0</th>\n",
       "      <td>7590-VHVEG</td>\n",
       "      <td>Female</td>\n",
       "      <td>0</td>\n",
       "      <td>Yes</td>\n",
       "      <td>No</td>\n",
       "      <td>1</td>\n",
       "      <td>No</td>\n",
       "      <td>No phone service</td>\n",
       "      <td>DSL</td>\n",
       "      <td>No</td>\n",
       "      <td>...</td>\n",
       "      <td>No</td>\n",
       "      <td>No</td>\n",
       "      <td>No</td>\n",
       "      <td>No</td>\n",
       "      <td>Month-to-month</td>\n",
       "      <td>Yes</td>\n",
       "      <td>Electronic check</td>\n",
       "      <td>29.85</td>\n",
       "      <td>29.85</td>\n",
       "      <td>No</td>\n",
       "    </tr>\n",
       "    <tr>\n",
       "      <th>1</th>\n",
       "      <td>5575-GNVDE</td>\n",
       "      <td>Male</td>\n",
       "      <td>0</td>\n",
       "      <td>No</td>\n",
       "      <td>No</td>\n",
       "      <td>34</td>\n",
       "      <td>Yes</td>\n",
       "      <td>No</td>\n",
       "      <td>DSL</td>\n",
       "      <td>Yes</td>\n",
       "      <td>...</td>\n",
       "      <td>Yes</td>\n",
       "      <td>No</td>\n",
       "      <td>No</td>\n",
       "      <td>No</td>\n",
       "      <td>One year</td>\n",
       "      <td>No</td>\n",
       "      <td>Mailed check</td>\n",
       "      <td>56.95</td>\n",
       "      <td>1889.5</td>\n",
       "      <td>No</td>\n",
       "    </tr>\n",
       "    <tr>\n",
       "      <th>2</th>\n",
       "      <td>3668-QPYBK</td>\n",
       "      <td>Male</td>\n",
       "      <td>0</td>\n",
       "      <td>No</td>\n",
       "      <td>No</td>\n",
       "      <td>2</td>\n",
       "      <td>Yes</td>\n",
       "      <td>No</td>\n",
       "      <td>DSL</td>\n",
       "      <td>Yes</td>\n",
       "      <td>...</td>\n",
       "      <td>No</td>\n",
       "      <td>No</td>\n",
       "      <td>No</td>\n",
       "      <td>No</td>\n",
       "      <td>Month-to-month</td>\n",
       "      <td>Yes</td>\n",
       "      <td>Mailed check</td>\n",
       "      <td>53.85</td>\n",
       "      <td>108.15</td>\n",
       "      <td>Yes</td>\n",
       "    </tr>\n",
       "    <tr>\n",
       "      <th>3</th>\n",
       "      <td>7795-CFOCW</td>\n",
       "      <td>Male</td>\n",
       "      <td>0</td>\n",
       "      <td>No</td>\n",
       "      <td>No</td>\n",
       "      <td>45</td>\n",
       "      <td>No</td>\n",
       "      <td>No phone service</td>\n",
       "      <td>DSL</td>\n",
       "      <td>Yes</td>\n",
       "      <td>...</td>\n",
       "      <td>Yes</td>\n",
       "      <td>Yes</td>\n",
       "      <td>No</td>\n",
       "      <td>No</td>\n",
       "      <td>One year</td>\n",
       "      <td>No</td>\n",
       "      <td>Bank transfer (automatic)</td>\n",
       "      <td>42.30</td>\n",
       "      <td>1840.75</td>\n",
       "      <td>No</td>\n",
       "    </tr>\n",
       "    <tr>\n",
       "      <th>4</th>\n",
       "      <td>9237-HQITU</td>\n",
       "      <td>Female</td>\n",
       "      <td>0</td>\n",
       "      <td>No</td>\n",
       "      <td>No</td>\n",
       "      <td>2</td>\n",
       "      <td>Yes</td>\n",
       "      <td>No</td>\n",
       "      <td>Fiber optic</td>\n",
       "      <td>No</td>\n",
       "      <td>...</td>\n",
       "      <td>No</td>\n",
       "      <td>No</td>\n",
       "      <td>No</td>\n",
       "      <td>No</td>\n",
       "      <td>Month-to-month</td>\n",
       "      <td>Yes</td>\n",
       "      <td>Electronic check</td>\n",
       "      <td>70.70</td>\n",
       "      <td>151.65</td>\n",
       "      <td>Yes</td>\n",
       "    </tr>\n",
       "  </tbody>\n",
       "</table>\n",
       "<p>5 rows × 21 columns</p>\n",
       "</div>"
      ],
      "text/plain": [
       "   customerID  gender  SeniorCitizen Partner Dependents  tenure PhoneService  \\\n",
       "0  7590-VHVEG  Female              0     Yes         No       1           No   \n",
       "1  5575-GNVDE    Male              0      No         No      34          Yes   \n",
       "2  3668-QPYBK    Male              0      No         No       2          Yes   \n",
       "3  7795-CFOCW    Male              0      No         No      45           No   \n",
       "4  9237-HQITU  Female              0      No         No       2          Yes   \n",
       "\n",
       "      MultipleLines InternetService OnlineSecurity  ... DeviceProtection  \\\n",
       "0  No phone service             DSL             No  ...               No   \n",
       "1                No             DSL            Yes  ...              Yes   \n",
       "2                No             DSL            Yes  ...               No   \n",
       "3  No phone service             DSL            Yes  ...              Yes   \n",
       "4                No     Fiber optic             No  ...               No   \n",
       "\n",
       "  TechSupport StreamingTV StreamingMovies        Contract PaperlessBilling  \\\n",
       "0          No          No              No  Month-to-month              Yes   \n",
       "1          No          No              No        One year               No   \n",
       "2          No          No              No  Month-to-month              Yes   \n",
       "3         Yes          No              No        One year               No   \n",
       "4          No          No              No  Month-to-month              Yes   \n",
       "\n",
       "               PaymentMethod MonthlyCharges  TotalCharges Churn  \n",
       "0           Electronic check          29.85         29.85    No  \n",
       "1               Mailed check          56.95        1889.5    No  \n",
       "2               Mailed check          53.85        108.15   Yes  \n",
       "3  Bank transfer (automatic)          42.30       1840.75    No  \n",
       "4           Electronic check          70.70        151.65   Yes  \n",
       "\n",
       "[5 rows x 21 columns]"
      ]
     },
     "execution_count": 3,
     "metadata": {},
     "output_type": "execute_result"
    }
   ],
   "source": [
    "df.head()"
   ]
  },
  {
   "cell_type": "markdown",
   "id": "a7e8d0d2",
   "metadata": {},
   "source": [
    "### Convert Total Charges variable to float for numeric analysis and impute median value for records converted to NA after float conversion"
   ]
  },
  {
   "cell_type": "code",
   "execution_count": 4,
   "id": "7cb0d227",
   "metadata": {},
   "outputs": [],
   "source": [
    "# convert the data type of TotalCharges from 'object' to 'float'\n",
    "df['TotalCharges'] = pd.to_numeric(df['TotalCharges'],errors='coerce')\n",
    "\n",
    "df.TotalCharges.fillna(value=df['TotalCharges'].median(),inplace=True)"
   ]
  },
  {
   "cell_type": "markdown",
   "id": "751b9a23",
   "metadata": {},
   "source": [
    "### Convert Tenure with the company into categories for new, middle, long-term customers. Break monthly charges into categories for low, medium, high monthly charges. Break total charges into categories for low, high total charges"
   ]
  },
  {
   "cell_type": "code",
   "execution_count": 5,
   "id": "0366b7e4",
   "metadata": {},
   "outputs": [],
   "source": [
    "# Convert Tenure with the company into categories for new, middle, long-term customers \n",
    "df.loc[df['tenure']<15, 'tenureCat'] = \"New Customers\"\n",
    "df.loc[df['tenure'].between(15,50), 'tenureCat'] = \"Middle Customers\"\n",
    "df.loc[df['tenure']>50, 'tenureCat'] = \"Long-Time Customers\"\n",
    "\n",
    "# Break monthly charges into categories for low, medium, high monthly charges \n",
    "df.loc[df['MonthlyCharges']<35, 'MCC'] = \"0-35\"\n",
    "df.loc[df['MonthlyCharges'].between(35,65), 'MCC'] = \"36-65\"\n",
    "df.loc[df['MonthlyCharges']>65, 'MCC'] = \">66\"\n",
    "\n",
    "# Break total charges into categories for low, high total charges \n",
    "df.loc[df['TotalCharges']<=2000, 'TCC'] = \"0-2000\"\n",
    "df.loc[df['TotalCharges']>2000, 'TCC'] = \">2000\""
   ]
  },
  {
   "cell_type": "markdown",
   "id": "e732b2fd",
   "metadata": {},
   "source": [
    "### Convert categorical variables into numeric categories"
   ]
  },
  {
   "cell_type": "code",
   "execution_count": 6,
   "id": "8ffb3dc2",
   "metadata": {},
   "outputs": [],
   "source": [
    "df['gender'] =df['gender'].astype('category').cat.codes\n",
    "df['tenure'] =df['tenure'].astype('category').cat.codes\n",
    "df['SeniorCitizen'] =df['SeniorCitizen'].astype('category').cat.codes\n",
    "df['Partner'] =df['Partner'].astype('category').cat.codes\n",
    "df['Dependents'] =df['Dependents'].astype('category').cat.codes\n",
    "df['PhoneService'] =df['PhoneService'].astype('category').cat.codes\n",
    "df['MultipleLines'] =df['MultipleLines'].astype('category').cat.codes\n",
    "df['InternetService'] =df['InternetService'].astype('category').cat.codes\n",
    "df['OnlineSecurity'] =df['OnlineSecurity'].astype('category').cat.codes\n",
    "df['OnlineBackup'] =df['OnlineBackup'].astype('category').cat.codes\n",
    "df['DeviceProtection'] =df['DeviceProtection'].astype('category').cat.codes\n",
    "df['TechSupport'] =df['TechSupport'].astype('category').cat.codes\n",
    "df['StreamingTV'] =df['StreamingTV'].astype('category').cat.codes\n",
    "df['StreamingMovies'] =df['StreamingMovies'].astype('category').cat.codes\n",
    "df['Contract'] =df['Contract'].astype('category').cat.codes\n",
    "df['PaperlessBilling'] =df['PaperlessBilling'].astype('category').cat.codes\n",
    "df['PaymentMethod'] =df['PaymentMethod'].astype('category').cat.codes\n",
    "df['Churn'] =df['Churn'].astype('category').cat.codes\n",
    "# User created categorical variabels \n",
    "df['tenureCat'] =df['tenureCat'].astype('category').cat.codes\n",
    "df['TCC'] =df['TCC'].astype('category').cat.codes\n",
    "df['MCC'] =df['MCC'].astype('category').cat.codes"
   ]
  },
  {
   "cell_type": "markdown",
   "id": "488662ec",
   "metadata": {},
   "source": [
    "### Drop the columns of 'tenure', 'MonthlyCharges', 'TotalCharges', otherwise they will be highly correlated to 'tenureCat', 'MCC' and 'TCC'. "
   ]
  },
  {
   "cell_type": "code",
   "execution_count": 16,
   "id": "ce59a4c1",
   "metadata": {},
   "outputs": [
    {
     "data": {
      "text/html": [
       "<style type=\"text/css\">\n",
       "#T_51a89_row0_col0, #T_51a89_row1_col1, #T_51a89_row2_col2, #T_51a89_row3_col3, #T_51a89_row4_col4, #T_51a89_row5_col5 {\n",
       "  background-color: #b40426;\n",
       "  color: #f1f1f1;\n",
       "}\n",
       "#T_51a89_row0_col1, #T_51a89_row1_col0, #T_51a89_row1_col2, #T_51a89_row1_col3, #T_51a89_row1_col4, #T_51a89_row1_col5 {\n",
       "  background-color: #3b4cc0;\n",
       "  color: #f1f1f1;\n",
       "}\n",
       "#T_51a89_row0_col2 {\n",
       "  background-color: #bcd2f7;\n",
       "  color: #000000;\n",
       "}\n",
       "#T_51a89_row0_col3 {\n",
       "  background-color: #d65244;\n",
       "  color: #f1f1f1;\n",
       "}\n",
       "#T_51a89_row0_col4 {\n",
       "  background-color: #8caffe;\n",
       "  color: #000000;\n",
       "}\n",
       "#T_51a89_row0_col5 {\n",
       "  background-color: #eb7d62;\n",
       "  color: #f1f1f1;\n",
       "}\n",
       "#T_51a89_row2_col0 {\n",
       "  background-color: #f3c7b1;\n",
       "  color: #000000;\n",
       "}\n",
       "#T_51a89_row2_col1 {\n",
       "  background-color: #b5cdfa;\n",
       "  color: #000000;\n",
       "}\n",
       "#T_51a89_row2_col3 {\n",
       "  background-color: #ed8366;\n",
       "  color: #f1f1f1;\n",
       "}\n",
       "#T_51a89_row2_col4 {\n",
       "  background-color: #c83836;\n",
       "  color: #f1f1f1;\n",
       "}\n",
       "#T_51a89_row2_col5 {\n",
       "  background-color: #f39577;\n",
       "  color: #000000;\n",
       "}\n",
       "#T_51a89_row3_col0 {\n",
       "  background-color: #d24b40;\n",
       "  color: #f1f1f1;\n",
       "}\n",
       "#T_51a89_row3_col1 {\n",
       "  background-color: #5572df;\n",
       "  color: #f1f1f1;\n",
       "}\n",
       "#T_51a89_row3_col2 {\n",
       "  background-color: #f7a688;\n",
       "  color: #000000;\n",
       "}\n",
       "#T_51a89_row3_col4 {\n",
       "  background-color: #edd1c2;\n",
       "  color: #000000;\n",
       "}\n",
       "#T_51a89_row3_col5 {\n",
       "  background-color: #d44e41;\n",
       "  color: #f1f1f1;\n",
       "}\n",
       "#T_51a89_row4_col0 {\n",
       "  background-color: #ebd3c6;\n",
       "  color: #000000;\n",
       "}\n",
       "#T_51a89_row4_col1 {\n",
       "  background-color: #c5d6f2;\n",
       "  color: #000000;\n",
       "}\n",
       "#T_51a89_row4_col2 {\n",
       "  background-color: #c73635;\n",
       "  color: #f1f1f1;\n",
       "}\n",
       "#T_51a89_row4_col3 {\n",
       "  background-color: #f6a283;\n",
       "  color: #000000;\n",
       "}\n",
       "#T_51a89_row4_col5 {\n",
       "  background-color: #f7a889;\n",
       "  color: #000000;\n",
       "}\n",
       "#T_51a89_row5_col0 {\n",
       "  background-color: #e46e56;\n",
       "  color: #f1f1f1;\n",
       "}\n",
       "#T_51a89_row5_col1 {\n",
       "  background-color: #6b8df0;\n",
       "  color: #f1f1f1;\n",
       "}\n",
       "#T_51a89_row5_col2 {\n",
       "  background-color: #f7b497;\n",
       "  color: #000000;\n",
       "}\n",
       "#T_51a89_row5_col3 {\n",
       "  background-color: #d1493f;\n",
       "  color: #f1f1f1;\n",
       "}\n",
       "#T_51a89_row5_col4 {\n",
       "  background-color: #efcebd;\n",
       "  color: #000000;\n",
       "}\n",
       "</style>\n",
       "<table id=\"T_51a89_\">\n",
       "  <thead>\n",
       "    <tr>\n",
       "      <th class=\"blank level0\" >&nbsp;</th>\n",
       "      <th class=\"col_heading level0 col0\" >tenure</th>\n",
       "      <th class=\"col_heading level0 col1\" >tenureCat</th>\n",
       "      <th class=\"col_heading level0 col2\" >MonthlyCharges</th>\n",
       "      <th class=\"col_heading level0 col3\" >TotalCharges</th>\n",
       "      <th class=\"col_heading level0 col4\" >MCC</th>\n",
       "      <th class=\"col_heading level0 col5\" >TCC</th>\n",
       "    </tr>\n",
       "  </thead>\n",
       "  <tbody>\n",
       "    <tr>\n",
       "      <th id=\"T_51a89_level0_row0\" class=\"row_heading level0 row0\" >tenure</th>\n",
       "      <td id=\"T_51a89_row0_col0\" class=\"data row0 col0\" >1.000000</td>\n",
       "      <td id=\"T_51a89_row0_col1\" class=\"data row0 col1\" >-0.946199</td>\n",
       "      <td id=\"T_51a89_row0_col2\" class=\"data row0 col2\" >0.247900</td>\n",
       "      <td id=\"T_51a89_row0_col3\" class=\"data row0 col3\" >0.825464</td>\n",
       "      <td id=\"T_51a89_row0_col4\" class=\"data row0 col4\" >0.144714</td>\n",
       "      <td id=\"T_51a89_row0_col5\" class=\"data row0 col5\" >0.696241</td>\n",
       "    </tr>\n",
       "    <tr>\n",
       "      <th id=\"T_51a89_level0_row1\" class=\"row_heading level0 row1\" >tenureCat</th>\n",
       "      <td id=\"T_51a89_row1_col0\" class=\"data row1 col0\" >-0.946199</td>\n",
       "      <td id=\"T_51a89_row1_col1\" class=\"data row1 col1\" >1.000000</td>\n",
       "      <td id=\"T_51a89_row1_col2\" class=\"data row1 col2\" >-0.232134</td>\n",
       "      <td id=\"T_51a89_row1_col3\" class=\"data row1 col3\" >-0.775331</td>\n",
       "      <td id=\"T_51a89_row1_col4\" class=\"data row1 col4\" >-0.135284</td>\n",
       "      <td id=\"T_51a89_row1_col5\" class=\"data row1 col5\" >-0.649634</td>\n",
       "    </tr>\n",
       "    <tr>\n",
       "      <th id=\"T_51a89_level0_row2\" class=\"row_heading level0 row2\" >MonthlyCharges</th>\n",
       "      <td id=\"T_51a89_row2_col0\" class=\"data row2 col0\" >0.247900</td>\n",
       "      <td id=\"T_51a89_row2_col1\" class=\"data row2 col1\" >-0.232134</td>\n",
       "      <td id=\"T_51a89_row2_col2\" class=\"data row2 col2\" >1.000000</td>\n",
       "      <td id=\"T_51a89_row2_col3\" class=\"data row2 col3\" >0.650864</td>\n",
       "      <td id=\"T_51a89_row2_col4\" class=\"data row2 col4\" >0.935254</td>\n",
       "      <td id=\"T_51a89_row2_col5\" class=\"data row2 col5\" >0.602321</td>\n",
       "    </tr>\n",
       "    <tr>\n",
       "      <th id=\"T_51a89_level0_row3\" class=\"row_heading level0 row3\" >TotalCharges</th>\n",
       "      <td id=\"T_51a89_row3_col0\" class=\"data row3 col0\" >0.825464</td>\n",
       "      <td id=\"T_51a89_row3_col1\" class=\"data row3 col1\" >-0.775331</td>\n",
       "      <td id=\"T_51a89_row3_col2\" class=\"data row3 col2\" >0.650864</td>\n",
       "      <td id=\"T_51a89_row3_col3\" class=\"data row3 col3\" >1.000000</td>\n",
       "      <td id=\"T_51a89_row3_col4\" class=\"data row3 col4\" >0.515726</td>\n",
       "      <td id=\"T_51a89_row3_col5\" class=\"data row3 col5\" >0.849319</td>\n",
       "    </tr>\n",
       "    <tr>\n",
       "      <th id=\"T_51a89_level0_row4\" class=\"row_heading level0 row4\" >MCC</th>\n",
       "      <td id=\"T_51a89_row4_col0\" class=\"data row4 col0\" >0.144714</td>\n",
       "      <td id=\"T_51a89_row4_col1\" class=\"data row4 col1\" >-0.135284</td>\n",
       "      <td id=\"T_51a89_row4_col2\" class=\"data row4 col2\" >0.935254</td>\n",
       "      <td id=\"T_51a89_row4_col3\" class=\"data row4 col3\" >0.515726</td>\n",
       "      <td id=\"T_51a89_row4_col4\" class=\"data row4 col4\" >1.000000</td>\n",
       "      <td id=\"T_51a89_row4_col5\" class=\"data row4 col5\" >0.527383</td>\n",
       "    </tr>\n",
       "    <tr>\n",
       "      <th id=\"T_51a89_level0_row5\" class=\"row_heading level0 row5\" >TCC</th>\n",
       "      <td id=\"T_51a89_row5_col0\" class=\"data row5 col0\" >0.696241</td>\n",
       "      <td id=\"T_51a89_row5_col1\" class=\"data row5 col1\" >-0.649634</td>\n",
       "      <td id=\"T_51a89_row5_col2\" class=\"data row5 col2\" >0.602321</td>\n",
       "      <td id=\"T_51a89_row5_col3\" class=\"data row5 col3\" >0.849319</td>\n",
       "      <td id=\"T_51a89_row5_col4\" class=\"data row5 col4\" >0.527383</td>\n",
       "      <td id=\"T_51a89_row5_col5\" class=\"data row5 col5\" >1.000000</td>\n",
       "    </tr>\n",
       "  </tbody>\n",
       "</table>\n"
      ],
      "text/plain": [
       "<pandas.io.formats.style.Styler at 0x7fc99a080310>"
      ]
     },
     "execution_count": 16,
     "metadata": {},
     "output_type": "execute_result"
    }
   ],
   "source": [
    "#Check correlation bewteen the columns of 'tenure', 'MonthlyCharges', 'TotalCharges' and the columns of 'tenureCat','MCC', 'TCC'\n",
    "\n",
    "corr = df[['tenure', 'tenureCat', 'MonthlyCharges', 'TotalCharges', 'MCC', 'TCC']].corr()\n",
    "corr.style.background_gradient(cmap='coolwarm')"
   ]
  },
  {
   "cell_type": "code",
   "execution_count": 8,
   "id": "2b1421dc",
   "metadata": {},
   "outputs": [],
   "source": [
    "df_new = df.drop(columns = ['tenure', 'MonthlyCharges','TotalCharges'])"
   ]
  },
  {
   "cell_type": "markdown",
   "id": "64a17c07",
   "metadata": {},
   "source": [
    "## Feature Selection"
   ]
  },
  {
   "cell_type": "code",
   "execution_count": 9,
   "id": "cf0d881a",
   "metadata": {},
   "outputs": [],
   "source": [
    "dff = df_new.copy()\n",
    "y = dff.Churn\n",
    "X = dff.drop(columns = ['Churn', 'customerID'])"
   ]
  },
  {
   "cell_type": "markdown",
   "id": "55f94916",
   "metadata": {},
   "source": [
    "## Method 1: SelectKBest"
   ]
  },
  {
   "cell_type": "code",
   "execution_count": 11,
   "id": "12827449",
   "metadata": {},
   "outputs": [
    {
     "data": {
      "text/html": [
       "<div>\n",
       "<style scoped>\n",
       "    .dataframe tbody tr th:only-of-type {\n",
       "        vertical-align: middle;\n",
       "    }\n",
       "\n",
       "    .dataframe tbody tr th {\n",
       "        vertical-align: top;\n",
       "    }\n",
       "\n",
       "    .dataframe thead th {\n",
       "        text-align: right;\n",
       "    }\n",
       "</style>\n",
       "<table border=\"1\" class=\"dataframe\">\n",
       "  <thead>\n",
       "    <tr style=\"text-align: right;\">\n",
       "      <th></th>\n",
       "      <th>fit_score</th>\n",
       "      <th>Column_name</th>\n",
       "    </tr>\n",
       "  </thead>\n",
       "  <tbody>\n",
       "    <tr>\n",
       "      <th>13</th>\n",
       "      <td>1115.780167</td>\n",
       "      <td>Contract</td>\n",
       "    </tr>\n",
       "    <tr>\n",
       "      <th>7</th>\n",
       "      <td>551.611529</td>\n",
       "      <td>OnlineSecurity</td>\n",
       "    </tr>\n",
       "    <tr>\n",
       "      <th>10</th>\n",
       "      <td>523.303866</td>\n",
       "      <td>TechSupport</td>\n",
       "    </tr>\n",
       "    <tr>\n",
       "      <th>16</th>\n",
       "      <td>495.685004</td>\n",
       "      <td>tenureCat</td>\n",
       "    </tr>\n",
       "    <tr>\n",
       "      <th>8</th>\n",
       "      <td>230.086520</td>\n",
       "      <td>OnlineBackup</td>\n",
       "    </tr>\n",
       "    <tr>\n",
       "      <th>17</th>\n",
       "      <td>194.300821</td>\n",
       "      <td>MCC</td>\n",
       "    </tr>\n",
       "    <tr>\n",
       "      <th>9</th>\n",
       "      <td>191.303140</td>\n",
       "      <td>DeviceProtection</td>\n",
       "    </tr>\n",
       "    <tr>\n",
       "      <th>1</th>\n",
       "      <td>134.351545</td>\n",
       "      <td>SeniorCitizen</td>\n",
       "    </tr>\n",
       "    <tr>\n",
       "      <th>3</th>\n",
       "      <td>133.036443</td>\n",
       "      <td>Dependents</td>\n",
       "    </tr>\n",
       "    <tr>\n",
       "      <th>14</th>\n",
       "      <td>105.680863</td>\n",
       "      <td>PaperlessBilling</td>\n",
       "    </tr>\n",
       "    <tr>\n",
       "      <th>18</th>\n",
       "      <td>93.281644</td>\n",
       "      <td>TCC</td>\n",
       "    </tr>\n",
       "    <tr>\n",
       "      <th>2</th>\n",
       "      <td>82.412083</td>\n",
       "      <td>Partner</td>\n",
       "    </tr>\n",
       "    <tr>\n",
       "      <th>15</th>\n",
       "      <td>58.492250</td>\n",
       "      <td>PaymentMethod</td>\n",
       "    </tr>\n",
       "    <tr>\n",
       "      <th>6</th>\n",
       "      <td>9.821028</td>\n",
       "      <td>InternetService</td>\n",
       "    </tr>\n",
       "    <tr>\n",
       "      <th>5</th>\n",
       "      <td>9.746921</td>\n",
       "      <td>MultipleLines</td>\n",
       "    </tr>\n",
       "    <tr>\n",
       "      <th>12</th>\n",
       "      <td>8.235399</td>\n",
       "      <td>StreamingMovies</td>\n",
       "    </tr>\n",
       "    <tr>\n",
       "      <th>11</th>\n",
       "      <td>7.490203</td>\n",
       "      <td>StreamingTV</td>\n",
       "    </tr>\n",
       "    <tr>\n",
       "      <th>0</th>\n",
       "      <td>0.258699</td>\n",
       "      <td>gender</td>\n",
       "    </tr>\n",
       "    <tr>\n",
       "      <th>4</th>\n",
       "      <td>0.097261</td>\n",
       "      <td>PhoneService</td>\n",
       "    </tr>\n",
       "  </tbody>\n",
       "</table>\n",
       "</div>"
      ],
      "text/plain": [
       "      fit_score       Column_name\n",
       "13  1115.780167          Contract\n",
       "7    551.611529    OnlineSecurity\n",
       "10   523.303866       TechSupport\n",
       "16   495.685004         tenureCat\n",
       "8    230.086520      OnlineBackup\n",
       "17   194.300821               MCC\n",
       "9    191.303140  DeviceProtection\n",
       "1    134.351545     SeniorCitizen\n",
       "3    133.036443        Dependents\n",
       "14   105.680863  PaperlessBilling\n",
       "18    93.281644               TCC\n",
       "2     82.412083           Partner\n",
       "15    58.492250     PaymentMethod\n",
       "6      9.821028   InternetService\n",
       "5      9.746921     MultipleLines\n",
       "12     8.235399   StreamingMovies\n",
       "11     7.490203       StreamingTV\n",
       "0      0.258699            gender\n",
       "4      0.097261      PhoneService"
      ]
     },
     "execution_count": 11,
     "metadata": {},
     "output_type": "execute_result"
    }
   ],
   "source": [
    "test = SelectKBest(score_func=chi2, k=10)\n",
    "fit = test.fit(X, y)\n",
    "\n",
    "np.set_printoptions(precision=1)\n",
    "\n",
    "c = []\n",
    "for i in fit.scores_:\n",
    "    c.append(i)\n",
    "c\n",
    "result = pd.DataFrame({\n",
    "    'fit_score': c,\n",
    "    'Column_name': X.columns\n",
    "})\n",
    "result.sort_values(by='fit_score', ascending=False)\n",
    "\n"
   ]
  },
  {
   "cell_type": "markdown",
   "id": "bec6460e",
   "metadata": {},
   "source": [
    "## Method 2: Forward Stepwise Selection"
   ]
  },
  {
   "cell_type": "code",
   "execution_count": 12,
   "id": "bb8a0269",
   "metadata": {},
   "outputs": [
    {
     "name": "stderr",
     "output_type": "stream",
     "text": [
      "[Parallel(n_jobs=1)]: Using backend SequentialBackend with 1 concurrent workers.\n",
      "[Parallel(n_jobs=1)]: Done   1 out of   1 | elapsed:    0.0s remaining:    0.0s\n",
      "[Parallel(n_jobs=1)]: Done  19 out of  19 | elapsed:    0.3s finished\n",
      "\n",
      "[2022-06-03 08:56:27] Features: 1/15 -- score: -0.16430775171939502[Parallel(n_jobs=1)]: Using backend SequentialBackend with 1 concurrent workers.\n",
      "[Parallel(n_jobs=1)]: Done   1 out of   1 | elapsed:    0.0s remaining:    0.0s\n",
      "[Parallel(n_jobs=1)]: Done  18 out of  18 | elapsed:    0.2s finished\n",
      "\n",
      "[2022-06-03 08:56:27] Features: 2/15 -- score: -0.15870559918577465[Parallel(n_jobs=1)]: Using backend SequentialBackend with 1 concurrent workers.\n",
      "[Parallel(n_jobs=1)]: Done   1 out of   1 | elapsed:    0.0s remaining:    0.0s\n",
      "[Parallel(n_jobs=1)]: Done  17 out of  17 | elapsed:    0.3s finished\n",
      "\n",
      "[2022-06-03 08:56:27] Features: 3/15 -- score: -0.1527197993672115[Parallel(n_jobs=1)]: Using backend SequentialBackend with 1 concurrent workers.\n",
      "[Parallel(n_jobs=1)]: Done   1 out of   1 | elapsed:    0.0s remaining:    0.0s\n",
      "[Parallel(n_jobs=1)]: Done  16 out of  16 | elapsed:    0.2s finished\n",
      "\n",
      "[2022-06-03 08:56:27] Features: 4/15 -- score: -0.14978776521326273[Parallel(n_jobs=1)]: Using backend SequentialBackend with 1 concurrent workers.\n",
      "[Parallel(n_jobs=1)]: Done   1 out of   1 | elapsed:    0.0s remaining:    0.0s\n",
      "[Parallel(n_jobs=1)]: Done  15 out of  15 | elapsed:    0.2s finished\n",
      "\n",
      "[2022-06-03 08:56:28] Features: 5/15 -- score: -0.1480107543779047[Parallel(n_jobs=1)]: Using backend SequentialBackend with 1 concurrent workers.\n",
      "[Parallel(n_jobs=1)]: Done   1 out of   1 | elapsed:    0.0s remaining:    0.0s\n",
      "[Parallel(n_jobs=1)]: Done  14 out of  14 | elapsed:    0.2s finished\n",
      "\n",
      "[2022-06-03 08:56:28] Features: 6/15 -- score: -0.14716391057202335[Parallel(n_jobs=1)]: Using backend SequentialBackend with 1 concurrent workers.\n",
      "[Parallel(n_jobs=1)]: Done   1 out of   1 | elapsed:    0.0s remaining:    0.0s\n",
      "[Parallel(n_jobs=1)]: Done  13 out of  13 | elapsed:    0.2s finished\n",
      "\n",
      "[2022-06-03 08:56:28] Features: 7/15 -- score: -0.14648388587013308[Parallel(n_jobs=1)]: Using backend SequentialBackend with 1 concurrent workers.\n",
      "[Parallel(n_jobs=1)]: Done   1 out of   1 | elapsed:    0.0s remaining:    0.0s\n",
      "[Parallel(n_jobs=1)]: Done  12 out of  12 | elapsed:    0.2s finished\n",
      "\n",
      "[2022-06-03 08:56:28] Features: 8/15 -- score: -0.14590295572386408[Parallel(n_jobs=1)]: Using backend SequentialBackend with 1 concurrent workers.\n",
      "[Parallel(n_jobs=1)]: Done   1 out of   1 | elapsed:    0.0s remaining:    0.0s\n",
      "[Parallel(n_jobs=1)]: Done  11 out of  11 | elapsed:    0.3s finished\n",
      "\n",
      "[2022-06-03 08:56:29] Features: 9/15 -- score: -0.1454055977943075[Parallel(n_jobs=1)]: Using backend SequentialBackend with 1 concurrent workers.\n",
      "[Parallel(n_jobs=1)]: Done   1 out of   1 | elapsed:    0.0s remaining:    0.0s\n",
      "[Parallel(n_jobs=1)]: Done  10 out of  10 | elapsed:    0.3s finished\n",
      "\n",
      "[2022-06-03 08:56:29] Features: 10/15 -- score: -0.14510037030345985[Parallel(n_jobs=1)]: Using backend SequentialBackend with 1 concurrent workers.\n",
      "[Parallel(n_jobs=1)]: Done   1 out of   1 | elapsed:    0.1s remaining:    0.0s\n",
      "[Parallel(n_jobs=1)]: Done   9 out of   9 | elapsed:    0.4s finished\n",
      "\n",
      "[2022-06-03 08:56:29] Features: 11/15 -- score: -0.14479765008913395[Parallel(n_jobs=1)]: Using backend SequentialBackend with 1 concurrent workers.\n",
      "[Parallel(n_jobs=1)]: Done   1 out of   1 | elapsed:    0.0s remaining:    0.0s\n",
      "[Parallel(n_jobs=1)]: Done   8 out of   8 | elapsed:    0.3s finished\n",
      "\n",
      "[2022-06-03 08:56:30] Features: 12/15 -- score: -0.14387684820577976[Parallel(n_jobs=1)]: Using backend SequentialBackend with 1 concurrent workers.\n",
      "[Parallel(n_jobs=1)]: Done   1 out of   1 | elapsed:    0.0s remaining:    0.0s\n",
      "[Parallel(n_jobs=1)]: Done   7 out of   7 | elapsed:    0.1s finished\n",
      "\n",
      "[2022-06-03 08:56:30] Features: 13/15 -- score: -0.14377506621937872[Parallel(n_jobs=1)]: Using backend SequentialBackend with 1 concurrent workers.\n",
      "[Parallel(n_jobs=1)]: Done   1 out of   1 | elapsed:    0.0s remaining:    0.0s\n"
     ]
    },
    {
     "name": "stdout",
     "output_type": "stream",
     "text": [
      "['SeniorCitizen', 'Dependents', 'PhoneService', 'MultipleLines', 'InternetService', 'OnlineSecurity', 'OnlineBackup', 'TechSupport', 'StreamingTV', 'Contract', 'PaperlessBilling', 'PaymentMethod', 'tenureCat', 'MCC', 'TCC']\n"
     ]
    },
    {
     "name": "stderr",
     "output_type": "stream",
     "text": [
      "[Parallel(n_jobs=1)]: Done   6 out of   6 | elapsed:    0.2s finished\n",
      "\n",
      "[2022-06-03 08:56:30] Features: 14/15 -- score: -0.1437006644768149[Parallel(n_jobs=1)]: Using backend SequentialBackend with 1 concurrent workers.\n",
      "[Parallel(n_jobs=1)]: Done   1 out of   1 | elapsed:    0.0s remaining:    0.0s\n",
      "[Parallel(n_jobs=1)]: Done   5 out of   5 | elapsed:    0.1s finished\n",
      "\n",
      "[2022-06-03 08:56:30] Features: 15/15 -- score: -0.14366539373386716"
     ]
    }
   ],
   "source": [
    "## With linear regression\n",
    "\n",
    "lr = LinearRegression()\n",
    "sfs1 = sfs(lr, k_features=15, forward=True, verbose=2, scoring='neg_mean_squared_error')\n",
    "sfs1 = sfs1.fit(X, y)\n",
    "feat_names = list(sfs1.k_feature_names_)\n",
    "print(feat_names)"
   ]
  },
  {
   "cell_type": "code",
   "execution_count": 17,
   "id": "5b17583d",
   "metadata": {},
   "outputs": [
    {
     "name": "stderr",
     "output_type": "stream",
     "text": [
      "[Parallel(n_jobs=1)]: Using backend SequentialBackend with 1 concurrent workers.\n",
      "[Parallel(n_jobs=1)]: Done   1 out of   1 | elapsed:    0.2s remaining:    0.0s\n",
      "[Parallel(n_jobs=1)]: Done  19 out of  19 | elapsed:    0.8s finished\n",
      "\n",
      "[2022-06-03 09:16:21] Features: 1/15 -- score: -0.2653698424091877[Parallel(n_jobs=1)]: Using backend SequentialBackend with 1 concurrent workers.\n",
      "[Parallel(n_jobs=1)]: Done   1 out of   1 | elapsed:    0.0s remaining:    0.0s\n",
      "[Parallel(n_jobs=1)]: Done  18 out of  18 | elapsed:    1.1s finished\n",
      "\n",
      "[2022-06-03 09:16:22] Features: 2/15 -- score: -0.2653698424091877[Parallel(n_jobs=1)]: Using backend SequentialBackend with 1 concurrent workers.\n",
      "[Parallel(n_jobs=1)]: Done   1 out of   1 | elapsed:    0.1s remaining:    0.0s\n",
      "[Parallel(n_jobs=1)]: Done  17 out of  17 | elapsed:    0.9s finished\n",
      "\n",
      "[2022-06-03 09:16:23] Features: 3/15 -- score: -0.2488985176462998[Parallel(n_jobs=1)]: Using backend SequentialBackend with 1 concurrent workers.\n",
      "[Parallel(n_jobs=1)]: Done   1 out of   1 | elapsed:    0.0s remaining:    0.0s\n",
      "[Parallel(n_jobs=1)]: Done  16 out of  16 | elapsed:    0.6s finished\n",
      "\n",
      "[2022-06-03 09:16:23] Features: 4/15 -- score: -0.21865543744757726[Parallel(n_jobs=1)]: Using backend SequentialBackend with 1 concurrent workers.\n",
      "[Parallel(n_jobs=1)]: Done   1 out of   1 | elapsed:    0.0s remaining:    0.0s\n",
      "[Parallel(n_jobs=1)]: Done  15 out of  15 | elapsed:    0.7s finished\n",
      "\n",
      "[2022-06-03 09:16:24] Features: 5/15 -- score: -0.21425354055100326[Parallel(n_jobs=1)]: Using backend SequentialBackend with 1 concurrent workers.\n",
      "[Parallel(n_jobs=1)]: Done   1 out of   1 | elapsed:    0.0s remaining:    0.0s\n",
      "[Parallel(n_jobs=1)]: Done  14 out of  14 | elapsed:    0.8s finished\n",
      "\n",
      "[2022-06-03 09:16:25] Features: 6/15 -- score: -0.21042012791147818[Parallel(n_jobs=1)]: Using backend SequentialBackend with 1 concurrent workers.\n",
      "[Parallel(n_jobs=1)]: Done   1 out of   1 | elapsed:    0.1s remaining:    0.0s\n",
      "[Parallel(n_jobs=1)]: Done  13 out of  13 | elapsed:    1.3s finished\n",
      "\n",
      "[2022-06-03 09:16:26] Features: 7/15 -- score: -0.20914212207239177[Parallel(n_jobs=1)]: Using backend SequentialBackend with 1 concurrent workers.\n",
      "[Parallel(n_jobs=1)]: Done   1 out of   1 | elapsed:    0.1s remaining:    0.0s\n",
      "[Parallel(n_jobs=1)]: Done  12 out of  12 | elapsed:    1.4s finished\n",
      "\n",
      "[2022-06-03 09:16:28] Features: 8/15 -- score: -0.2055920946512678[Parallel(n_jobs=1)]: Using backend SequentialBackend with 1 concurrent workers.\n",
      "[Parallel(n_jobs=1)]: Done   1 out of   1 | elapsed:    0.1s remaining:    0.0s\n",
      "[Parallel(n_jobs=1)]: Done  11 out of  11 | elapsed:    0.7s finished\n",
      "\n",
      "[2022-06-03 09:16:28] Features: 9/15 -- score: -0.2055920946512678[Parallel(n_jobs=1)]: Using backend SequentialBackend with 1 concurrent workers.\n",
      "[Parallel(n_jobs=1)]: Done   1 out of   1 | elapsed:    0.1s remaining:    0.0s\n",
      "[Parallel(n_jobs=1)]: Done  10 out of  10 | elapsed:    0.7s finished\n",
      "\n",
      "[2022-06-03 09:16:29] Features: 10/15 -- score: -0.20601802938899283[Parallel(n_jobs=1)]: Using backend SequentialBackend with 1 concurrent workers.\n",
      "[Parallel(n_jobs=1)]: Done   1 out of   1 | elapsed:    0.1s remaining:    0.0s\n",
      "[Parallel(n_jobs=1)]: Done   9 out of   9 | elapsed:    1.1s finished\n",
      "\n",
      "[2022-06-03 09:16:30] Features: 11/15 -- score: -0.20630212029808376[Parallel(n_jobs=1)]: Using backend SequentialBackend with 1 concurrent workers.\n",
      "[Parallel(n_jobs=1)]: Done   1 out of   1 | elapsed:    0.1s remaining:    0.0s\n",
      "[Parallel(n_jobs=1)]: Done   8 out of   8 | elapsed:    0.6s finished\n",
      "\n",
      "[2022-06-03 09:16:31] Features: 12/15 -- score: -0.20658600958126333[Parallel(n_jobs=1)]: Using backend SequentialBackend with 1 concurrent workers.\n",
      "[Parallel(n_jobs=1)]: Done   1 out of   1 | elapsed:    0.1s remaining:    0.0s\n",
      "[Parallel(n_jobs=1)]: Done   7 out of   7 | elapsed:    0.7s finished\n",
      "\n",
      "[2022-06-03 09:16:32] Features: 13/15 -- score: -0.2087159857087554[Parallel(n_jobs=1)]: Using backend SequentialBackend with 1 concurrent workers.\n",
      "[Parallel(n_jobs=1)]: Done   1 out of   1 | elapsed:    0.1s remaining:    0.0s\n",
      "[Parallel(n_jobs=1)]: Done   6 out of   6 | elapsed:    0.5s finished\n",
      "\n",
      "[2022-06-03 09:16:32] Features: 14/15 -- score: -0.2054503516355894[Parallel(n_jobs=1)]: Using backend SequentialBackend with 1 concurrent workers.\n",
      "[Parallel(n_jobs=1)]: Done   1 out of   1 | elapsed:    0.1s remaining:    0.0s\n"
     ]
    },
    {
     "name": "stdout",
     "output_type": "stream",
     "text": [
      "['gender', 'SeniorCitizen', 'Partner', 'Dependents', 'PhoneService', 'MultipleLines', 'InternetService', 'DeviceProtection', 'TechSupport', 'Contract', 'PaperlessBilling', 'PaymentMethod', 'tenureCat', 'MCC', 'TCC']\n"
     ]
    },
    {
     "name": "stderr",
     "output_type": "stream",
     "text": [
      "[Parallel(n_jobs=1)]: Done   5 out of   5 | elapsed:    0.9s finished\n",
      "\n",
      "[2022-06-03 09:16:33] Features: 15/15 -- score: -0.20332017388218593"
     ]
    }
   ],
   "source": [
    "## With logistic regression\n",
    "\n",
    "lgr = LogisticRegression()\n",
    "sfs2 = sfs(lgr, k_features=15, forward=True, verbose=2, scoring='neg_mean_squared_error')\n",
    "sfs2 = sfs2.fit(X, y)\n",
    "feat_names2 = list(sfs2.k_feature_names_)\n",
    "print(feat_names2)"
   ]
  },
  {
   "cell_type": "code",
   "execution_count": 14,
   "id": "d3ae581a",
   "metadata": {},
   "outputs": [
    {
     "name": "stderr",
     "output_type": "stream",
     "text": [
      "[Parallel(n_jobs=1)]: Using backend SequentialBackend with 1 concurrent workers.\n",
      "[Parallel(n_jobs=1)]: Done   1 out of   1 | elapsed:    4.0s remaining:    0.0s\n",
      "[Parallel(n_jobs=1)]: Done  19 out of  19 | elapsed:   21.6s finished\n",
      "\n",
      "[2022-06-03 08:57:08] Features: 1/15 -- score: -0.2653698424091877[Parallel(n_jobs=1)]: Using backend SequentialBackend with 1 concurrent workers.\n",
      "[Parallel(n_jobs=1)]: Done   1 out of   1 | elapsed:    0.9s remaining:    0.0s\n",
      "[Parallel(n_jobs=1)]: Done  18 out of  18 | elapsed:   17.0s finished\n",
      "\n",
      "[2022-06-03 08:57:25] Features: 2/15 -- score: -0.2653698424091877[Parallel(n_jobs=1)]: Using backend SequentialBackend with 1 concurrent workers.\n",
      "[Parallel(n_jobs=1)]: Done   1 out of   1 | elapsed:    1.3s remaining:    0.0s\n",
      "[Parallel(n_jobs=1)]: Done  17 out of  17 | elapsed:   18.9s finished\n",
      "\n",
      "[2022-06-03 08:57:44] Features: 3/15 -- score: -0.2488985176462998[Parallel(n_jobs=1)]: Using backend SequentialBackend with 1 concurrent workers.\n",
      "[Parallel(n_jobs=1)]: Done   1 out of   1 | elapsed:    1.1s remaining:    0.0s\n",
      "[Parallel(n_jobs=1)]: Done  16 out of  16 | elapsed:   16.0s finished\n",
      "\n",
      "[2022-06-03 08:58:00] Features: 4/15 -- score: -0.21056237499193498[Parallel(n_jobs=1)]: Using backend SequentialBackend with 1 concurrent workers.\n",
      "[Parallel(n_jobs=1)]: Done   1 out of   1 | elapsed:    0.9s remaining:    0.0s\n",
      "[Parallel(n_jobs=1)]: Done  15 out of  15 | elapsed:   19.0s finished\n",
      "\n",
      "[2022-06-03 08:58:19] Features: 5/15 -- score: -0.20729684173172463[Parallel(n_jobs=1)]: Using backend SequentialBackend with 1 concurrent workers.\n",
      "[Parallel(n_jobs=1)]: Done   1 out of   1 | elapsed:    2.0s remaining:    0.0s\n",
      "[Parallel(n_jobs=1)]: Done  14 out of  14 | elapsed:   17.6s finished\n",
      "\n",
      "[2022-06-03 08:58:36] Features: 6/15 -- score: -0.20516666397832117[Parallel(n_jobs=1)]: Using backend SequentialBackend with 1 concurrent workers.\n",
      "[Parallel(n_jobs=1)]: Done   1 out of   1 | elapsed:    1.7s remaining:    0.0s\n",
      "[Parallel(n_jobs=1)]: Done  13 out of  13 | elapsed:   14.4s finished\n",
      "\n",
      "[2022-06-03 08:58:51] Features: 7/15 -- score: -0.20474093086650752[Parallel(n_jobs=1)]: Using backend SequentialBackend with 1 concurrent workers.\n",
      "[Parallel(n_jobs=1)]: Done   1 out of   1 | elapsed:    1.7s remaining:    0.0s\n",
      "[Parallel(n_jobs=1)]: Done  12 out of  12 | elapsed:   13.0s finished\n",
      "\n",
      "[2022-06-03 08:59:04] Features: 8/15 -- score: -0.20502441689786438[Parallel(n_jobs=1)]: Using backend SequentialBackend with 1 concurrent workers.\n",
      "[Parallel(n_jobs=1)]: Done   1 out of   1 | elapsed:    1.3s remaining:    0.0s\n",
      "[Parallel(n_jobs=1)]: Done  11 out of  11 | elapsed:   13.3s finished\n",
      "\n",
      "[2022-06-03 08:59:17] Features: 9/15 -- score: -0.20800616168785085[Parallel(n_jobs=1)]: Using backend SequentialBackend with 1 concurrent workers.\n",
      "[Parallel(n_jobs=1)]: Done   1 out of   1 | elapsed:    1.1s remaining:    0.0s\n",
      "[Parallel(n_jobs=1)]: Done  10 out of  10 | elapsed:   12.7s finished\n",
      "\n",
      "[2022-06-03 08:59:30] Features: 10/15 -- score: -0.2109874024130589[Parallel(n_jobs=1)]: Using backend SequentialBackend with 1 concurrent workers.\n",
      "[Parallel(n_jobs=1)]: Done   1 out of   1 | elapsed:    1.2s remaining:    0.0s\n",
      "[Parallel(n_jobs=1)]: Done   9 out of   9 | elapsed:   12.3s finished\n",
      "\n",
      "[2022-06-03 08:59:42] Features: 11/15 -- score: -0.2124076553326021[Parallel(n_jobs=1)]: Using backend SequentialBackend with 1 concurrent workers.\n",
      "[Parallel(n_jobs=1)]: Done   1 out of   1 | elapsed:    1.5s remaining:    0.0s\n",
      "[Parallel(n_jobs=1)]: Done   8 out of   8 | elapsed:   11.4s finished\n",
      "\n",
      "[2022-06-03 08:59:54] Features: 12/15 -- score: -0.21425333892509194[Parallel(n_jobs=1)]: Using backend SequentialBackend with 1 concurrent workers.\n",
      "[Parallel(n_jobs=1)]: Done   1 out of   1 | elapsed:    1.9s remaining:    0.0s\n",
      "[Parallel(n_jobs=1)]: Done   7 out of   7 | elapsed:   13.3s finished\n",
      "\n",
      "[2022-06-03 09:00:07] Features: 13/15 -- score: -0.21979190189689657[Parallel(n_jobs=1)]: Using backend SequentialBackend with 1 concurrent workers.\n",
      "[Parallel(n_jobs=1)]: Done   1 out of   1 | elapsed:    2.3s remaining:    0.0s\n",
      "[Parallel(n_jobs=1)]: Done   6 out of   6 | elapsed:   15.8s finished\n",
      "\n",
      "[2022-06-03 09:00:23] Features: 14/15 -- score: -0.2240496362668559[Parallel(n_jobs=1)]: Using backend SequentialBackend with 1 concurrent workers.\n",
      "[Parallel(n_jobs=1)]: Done   1 out of   1 | elapsed:    2.5s remaining:    0.0s\n"
     ]
    },
    {
     "name": "stdout",
     "output_type": "stream",
     "text": [
      "['gender', 'SeniorCitizen', 'Dependents', 'PhoneService', 'MultipleLines', 'InternetService', 'DeviceProtection', 'TechSupport', 'StreamingTV', 'StreamingMovies', 'Contract', 'PaperlessBilling', 'tenureCat', 'MCC', 'TCC']\n"
     ]
    },
    {
     "name": "stderr",
     "output_type": "stream",
     "text": [
      "[Parallel(n_jobs=1)]: Done   5 out of   5 | elapsed:   14.6s finished\n",
      "\n",
      "[2022-06-03 09:00:37] Features: 15/15 -- score: -0.2298697698238596"
     ]
    }
   ],
   "source": [
    "## With random forest classifier\n",
    "\n",
    "clf = RandomForestClassifier(n_estimators=100, n_jobs=-1)\n",
    "sfs3 = sfs(clf,\n",
    "           k_features=15,\n",
    "           forward=True,\n",
    "           floating=False,\n",
    "           verbose=2,\n",
    "           scoring='neg_mean_squared_error')\n",
    "sfs3 = sfs3.fit(X, y)\n",
    "feat_names3 = list(sfs3.k_feature_names_)\n",
    "print(feat_names3)"
   ]
  },
  {
   "cell_type": "markdown",
   "id": "28e526b7",
   "metadata": {},
   "source": [
    "## We decide to apply the top 15 variables listed by fit scores that were forward selected with a logistic regression model, after considering both methods of feature selection."
   ]
  },
  {
   "cell_type": "code",
   "execution_count": 38,
   "id": "8be5f0dc",
   "metadata": {},
   "outputs": [
    {
     "data": {
      "text/html": [
       "<div>\n",
       "<style scoped>\n",
       "    .dataframe tbody tr th:only-of-type {\n",
       "        vertical-align: middle;\n",
       "    }\n",
       "\n",
       "    .dataframe tbody tr th {\n",
       "        vertical-align: top;\n",
       "    }\n",
       "\n",
       "    .dataframe thead th {\n",
       "        text-align: right;\n",
       "    }\n",
       "</style>\n",
       "<table border=\"1\" class=\"dataframe\">\n",
       "  <thead>\n",
       "    <tr style=\"text-align: right;\">\n",
       "      <th></th>\n",
       "      <th>fit_score</th>\n",
       "      <th>forward_column</th>\n",
       "    </tr>\n",
       "  </thead>\n",
       "  <tbody>\n",
       "    <tr>\n",
       "      <th>0</th>\n",
       "      <td>0.258699</td>\n",
       "      <td>gender</td>\n",
       "    </tr>\n",
       "    <tr>\n",
       "      <th>1</th>\n",
       "      <td>134.351545</td>\n",
       "      <td>SeniorCitizen</td>\n",
       "    </tr>\n",
       "    <tr>\n",
       "      <th>2</th>\n",
       "      <td>82.412083</td>\n",
       "      <td>Partner</td>\n",
       "    </tr>\n",
       "    <tr>\n",
       "      <th>3</th>\n",
       "      <td>133.036443</td>\n",
       "      <td>Dependents</td>\n",
       "    </tr>\n",
       "    <tr>\n",
       "      <th>4</th>\n",
       "      <td>0.097261</td>\n",
       "      <td>PhoneService</td>\n",
       "    </tr>\n",
       "    <tr>\n",
       "      <th>5</th>\n",
       "      <td>9.746921</td>\n",
       "      <td>MultipleLines</td>\n",
       "    </tr>\n",
       "    <tr>\n",
       "      <th>6</th>\n",
       "      <td>9.821028</td>\n",
       "      <td>InternetService</td>\n",
       "    </tr>\n",
       "    <tr>\n",
       "      <th>7</th>\n",
       "      <td>551.611529</td>\n",
       "      <td>DeviceProtection</td>\n",
       "    </tr>\n",
       "    <tr>\n",
       "      <th>8</th>\n",
       "      <td>230.086520</td>\n",
       "      <td>TechSupport</td>\n",
       "    </tr>\n",
       "    <tr>\n",
       "      <th>9</th>\n",
       "      <td>191.303140</td>\n",
       "      <td>Contract</td>\n",
       "    </tr>\n",
       "    <tr>\n",
       "      <th>10</th>\n",
       "      <td>523.303866</td>\n",
       "      <td>PaperlessBilling</td>\n",
       "    </tr>\n",
       "    <tr>\n",
       "      <th>11</th>\n",
       "      <td>7.490203</td>\n",
       "      <td>PaymentMethod</td>\n",
       "    </tr>\n",
       "    <tr>\n",
       "      <th>12</th>\n",
       "      <td>8.235399</td>\n",
       "      <td>tenureCat</td>\n",
       "    </tr>\n",
       "    <tr>\n",
       "      <th>13</th>\n",
       "      <td>1115.780167</td>\n",
       "      <td>MCC</td>\n",
       "    </tr>\n",
       "    <tr>\n",
       "      <th>14</th>\n",
       "      <td>105.680863</td>\n",
       "      <td>TCC</td>\n",
       "    </tr>\n",
       "  </tbody>\n",
       "</table>\n",
       "</div>"
      ],
      "text/plain": [
       "      fit_score    forward_column\n",
       "0      0.258699            gender\n",
       "1    134.351545     SeniorCitizen\n",
       "2     82.412083           Partner\n",
       "3    133.036443        Dependents\n",
       "4      0.097261      PhoneService\n",
       "5      9.746921     MultipleLines\n",
       "6      9.821028   InternetService\n",
       "7    551.611529  DeviceProtection\n",
       "8    230.086520       TechSupport\n",
       "9    191.303140          Contract\n",
       "10   523.303866  PaperlessBilling\n",
       "11     7.490203     PaymentMethod\n",
       "12     8.235399         tenureCat\n",
       "13  1115.780167               MCC\n",
       "14   105.680863               TCC"
      ]
     },
     "execution_count": 38,
     "metadata": {},
     "output_type": "execute_result"
    }
   ],
   "source": [
    "Selected_Columns = pd.DataFrame({\n",
    "    'fit_score': c[:15],\n",
    "    'forward_column':feat_names2})\n",
    "\n",
    "Selected_Columns"
   ]
  },
  {
   "cell_type": "code",
   "execution_count": 39,
   "id": "23d36205",
   "metadata": {},
   "outputs": [],
   "source": [
    "df_features = dff[['customerID','gender','SeniorCitizen', 'Partner','Dependents', 'PhoneService', 'MultipleLines', 'InternetService', 'DeviceProtection', 'TechSupport', 'Contract', 'PaperlessBilling', 'PaymentMethod', 'tenureCat', 'MCC', 'TCC','Churn']]"
   ]
  },
  {
   "cell_type": "code",
   "execution_count": 40,
   "id": "3eaeac7b",
   "metadata": {},
   "outputs": [
    {
     "data": {
      "text/plain": [
       "(7043, 17)"
      ]
     },
     "execution_count": 40,
     "metadata": {},
     "output_type": "execute_result"
    }
   ],
   "source": [
    "df_features.shape"
   ]
  },
  {
   "cell_type": "markdown",
   "id": "a89199db",
   "metadata": {},
   "source": [
    "### Drop customerID, as we will not need it for modeling "
   ]
  },
  {
   "cell_type": "code",
   "execution_count": 41,
   "id": "30279639",
   "metadata": {},
   "outputs": [
    {
     "data": {
      "text/html": [
       "<div>\n",
       "<style scoped>\n",
       "    .dataframe tbody tr th:only-of-type {\n",
       "        vertical-align: middle;\n",
       "    }\n",
       "\n",
       "    .dataframe tbody tr th {\n",
       "        vertical-align: top;\n",
       "    }\n",
       "\n",
       "    .dataframe thead th {\n",
       "        text-align: right;\n",
       "    }\n",
       "</style>\n",
       "<table border=\"1\" class=\"dataframe\">\n",
       "  <thead>\n",
       "    <tr style=\"text-align: right;\">\n",
       "      <th></th>\n",
       "      <th>gender</th>\n",
       "      <th>SeniorCitizen</th>\n",
       "      <th>Partner</th>\n",
       "      <th>Dependents</th>\n",
       "      <th>PhoneService</th>\n",
       "      <th>MultipleLines</th>\n",
       "      <th>InternetService</th>\n",
       "      <th>DeviceProtection</th>\n",
       "      <th>TechSupport</th>\n",
       "      <th>Contract</th>\n",
       "      <th>PaperlessBilling</th>\n",
       "      <th>PaymentMethod</th>\n",
       "      <th>tenureCat</th>\n",
       "      <th>MCC</th>\n",
       "      <th>TCC</th>\n",
       "      <th>Churn</th>\n",
       "    </tr>\n",
       "  </thead>\n",
       "  <tbody>\n",
       "    <tr>\n",
       "      <th>0</th>\n",
       "      <td>0</td>\n",
       "      <td>0</td>\n",
       "      <td>1</td>\n",
       "      <td>0</td>\n",
       "      <td>0</td>\n",
       "      <td>1</td>\n",
       "      <td>0</td>\n",
       "      <td>0</td>\n",
       "      <td>0</td>\n",
       "      <td>0</td>\n",
       "      <td>1</td>\n",
       "      <td>2</td>\n",
       "      <td>2</td>\n",
       "      <td>0</td>\n",
       "      <td>0</td>\n",
       "      <td>0</td>\n",
       "    </tr>\n",
       "    <tr>\n",
       "      <th>1</th>\n",
       "      <td>1</td>\n",
       "      <td>0</td>\n",
       "      <td>0</td>\n",
       "      <td>0</td>\n",
       "      <td>1</td>\n",
       "      <td>0</td>\n",
       "      <td>0</td>\n",
       "      <td>2</td>\n",
       "      <td>0</td>\n",
       "      <td>1</td>\n",
       "      <td>0</td>\n",
       "      <td>3</td>\n",
       "      <td>1</td>\n",
       "      <td>1</td>\n",
       "      <td>0</td>\n",
       "      <td>0</td>\n",
       "    </tr>\n",
       "    <tr>\n",
       "      <th>2</th>\n",
       "      <td>1</td>\n",
       "      <td>0</td>\n",
       "      <td>0</td>\n",
       "      <td>0</td>\n",
       "      <td>1</td>\n",
       "      <td>0</td>\n",
       "      <td>0</td>\n",
       "      <td>0</td>\n",
       "      <td>0</td>\n",
       "      <td>0</td>\n",
       "      <td>1</td>\n",
       "      <td>3</td>\n",
       "      <td>2</td>\n",
       "      <td>1</td>\n",
       "      <td>0</td>\n",
       "      <td>1</td>\n",
       "    </tr>\n",
       "    <tr>\n",
       "      <th>3</th>\n",
       "      <td>1</td>\n",
       "      <td>0</td>\n",
       "      <td>0</td>\n",
       "      <td>0</td>\n",
       "      <td>0</td>\n",
       "      <td>1</td>\n",
       "      <td>0</td>\n",
       "      <td>2</td>\n",
       "      <td>2</td>\n",
       "      <td>1</td>\n",
       "      <td>0</td>\n",
       "      <td>0</td>\n",
       "      <td>1</td>\n",
       "      <td>1</td>\n",
       "      <td>0</td>\n",
       "      <td>0</td>\n",
       "    </tr>\n",
       "    <tr>\n",
       "      <th>4</th>\n",
       "      <td>0</td>\n",
       "      <td>0</td>\n",
       "      <td>0</td>\n",
       "      <td>0</td>\n",
       "      <td>1</td>\n",
       "      <td>0</td>\n",
       "      <td>1</td>\n",
       "      <td>0</td>\n",
       "      <td>0</td>\n",
       "      <td>0</td>\n",
       "      <td>1</td>\n",
       "      <td>2</td>\n",
       "      <td>2</td>\n",
       "      <td>2</td>\n",
       "      <td>0</td>\n",
       "      <td>1</td>\n",
       "    </tr>\n",
       "  </tbody>\n",
       "</table>\n",
       "</div>"
      ],
      "text/plain": [
       "   gender  SeniorCitizen  Partner  Dependents  PhoneService  MultipleLines  \\\n",
       "0       0              0        1           0             0              1   \n",
       "1       1              0        0           0             1              0   \n",
       "2       1              0        0           0             1              0   \n",
       "3       1              0        0           0             0              1   \n",
       "4       0              0        0           0             1              0   \n",
       "\n",
       "   InternetService  DeviceProtection  TechSupport  Contract  PaperlessBilling  \\\n",
       "0                0                 0            0         0                 1   \n",
       "1                0                 2            0         1                 0   \n",
       "2                0                 0            0         0                 1   \n",
       "3                0                 2            2         1                 0   \n",
       "4                1                 0            0         0                 1   \n",
       "\n",
       "   PaymentMethod  tenureCat  MCC  TCC  Churn  \n",
       "0              2          2    0    0      0  \n",
       "1              3          1    1    0      0  \n",
       "2              3          2    1    0      1  \n",
       "3              0          1    1    0      0  \n",
       "4              2          2    2    0      1  "
      ]
     },
     "execution_count": 41,
     "metadata": {},
     "output_type": "execute_result"
    }
   ],
   "source": [
    "df = df_features.drop('customerID', 1)\n",
    "\n",
    "df.head()"
   ]
  },
  {
   "cell_type": "markdown",
   "id": "c5fc6df1",
   "metadata": {},
   "source": [
    "### We identified highly correlated features to see if removal of them improved scoring, but it did not so all variables were kept"
   ]
  },
  {
   "cell_type": "code",
   "execution_count": 8,
   "id": "11a70d38",
   "metadata": {},
   "outputs": [],
   "source": [
    "# # Create correlation matrix\n",
    "# corr_matrix = df.corr().abs()\n",
    "\n",
    "# # Select upper triangle of correlation matrix\n",
    "# upper = corr_matrix.where(np.triu(np.ones(corr_matrix.shape), k=1).astype(np.bool))\n",
    "\n",
    "# # Find features with correlation greater than 0.90\n",
    "# to_drop = [column for column in upper.columns if any(upper[column] > 0.90)]\n",
    "\n",
    "# to_drop\n",
    "\n",
    "# # Drop features \n",
    "# df.drop(to_drop, axis=1, inplace=True)"
   ]
  },
  {
   "cell_type": "markdown",
   "id": "f2d8e163",
   "metadata": {},
   "source": [
    "### Split Dataset into test/train. We will test accuracy outputs with a standardized dataset and a dataset using polynomial varibles to determine what yields the best output"
   ]
  },
  {
   "cell_type": "code",
   "execution_count": 42,
   "id": "4f850053",
   "metadata": {},
   "outputs": [],
   "source": [
    "# split features from outcomes for model prep\n",
    "x_unscaled = df.iloc[:, [0,1,2,3,4,5,6,7,8,9,10,11,12,13,14]]\n",
    "y = df.iloc[:,15]\n",
    "\n",
    "# Add polynomial features to x \n",
    "polynomial_features= PolynomialFeatures(degree=2)\n",
    "x_poly = polynomial_features.fit_transform(x_unscaled)\n",
    "\n",
    "# split the data for modeling\n",
    "x_train, x_test, y_train, y_test = train_test_split(x_unscaled, y, test_size=0.2, random_state = 42)\n",
    "\n",
    "# split the data using polynomial features for x and log value for y\n",
    "x_trainPoly, x_testPoly, y_trainPoly, y_testPoly = train_test_split(x_poly, y, test_size=0.2, random_state = 42)"
   ]
  },
  {
   "cell_type": "markdown",
   "id": "63dc0fa1",
   "metadata": {},
   "source": [
    "### Conduct standard scaling on the dataset. For the training dataset we will fit and normalize. For the test dataset we will just trasnform the variables, using the same params that it learned from the training data"
   ]
  },
  {
   "cell_type": "code",
   "execution_count": 43,
   "id": "e01d7076",
   "metadata": {},
   "outputs": [],
   "source": [
    "# Conduct Standard Scaling \n",
    "scaler = StandardScaler()\n",
    "x_train = scaler.fit_transform( x_train )\n",
    "x_test = scaler.transform( x_test )"
   ]
  },
  {
   "cell_type": "markdown",
   "id": "f8a32d6f",
   "metadata": {},
   "source": [
    "### SMOTE was tested to see if it would increase scoring metrics due to the imbalanced dataset. Negative MSE increases, but F-1 scoring and accuracy improved slightly without SMOTE"
   ]
  },
  {
   "cell_type": "code",
   "execution_count": 11,
   "id": "b7a390ba",
   "metadata": {},
   "outputs": [],
   "source": [
    "# sm = SMOTE()\n",
    "# x_train, y_train = sm.fit_resample(x_train, y_train)\n",
    "\n",
    "# # check shape of x_train and y_train, and new response variable ratio\n",
    "# print(x_train.shape)\n",
    "# print(y_train.shape)\n",
    "# print(y_train.value_counts(normalize = True))"
   ]
  },
  {
   "cell_type": "markdown",
   "id": "4953ba70",
   "metadata": {},
   "source": [
    "### We will run our training dataset through a number of different binary classification models, using negative mean squared error as a measuring stick to determine which models may provide optimized outputs. \n",
    "\n",
    "### As we can see, models employing ensemble learning perform better than standard binary classification models \n",
    "\n",
    "### Polynomial features vs. scaled features seem to yield fairly similar negative MSE results, with the standardized features performing *slightly* better "
   ]
  },
  {
   "cell_type": "code",
   "execution_count": 44,
   "id": "4cdd57be",
   "metadata": {
    "scrolled": true
   },
   "outputs": [
    {
     "name": "stdout",
     "output_type": "stream",
     "text": [
      "LogisticRegression: -0.205533 (0.016410) Log Outputs: -0.206421 (0.015097)\n",
      "KNearestNeighbors: -0.246716 (0.019765) Log Outputs: -0.246356 (0.017416)\n",
      "LinearSVC: -0.219913 (0.015938) Log Outputs: -0.211213 (0.016766)\n",
      "DecisionTree: -0.265706 (0.012884) Log Outputs: -0.265700 (0.016368)\n",
      "BaggingClassifier: -0.240854 (0.013717) Log Outputs: -0.242271 (0.019562)\n",
      "XGBClassifier: -0.253100 (0.017137) Log Outputs: -0.253453 (0.022177)\n",
      "BoostClassifier: -0.207662 (0.014440) Log Outputs: -0.209261 (0.018816)\n",
      "RandomForest: -0.211387 (0.017464) Log Outputs: -0.212808 (0.018254)\n",
      "GradientBoost: -0.204114 (0.015420) Log Outputs: -0.204292 (0.018036)\n",
      "MLPClassifier: -0.246886 (0.018873) Log Outputs: -0.261619 (0.023752)\n"
     ]
    }
   ],
   "source": [
    "pipelines = []\n",
    "# Standard binary classification models \n",
    "pipelines.append(('LogisticRegression', Pipeline([('LR',linear_model.LogisticRegression(max_iter=1000))])))\n",
    "pipelines.append(('KNearestNeighbors', Pipeline([('KNN',KNeighborsClassifier(algorithm = 'brute', n_jobs=-1))])))\n",
    "pipelines.append(('LinearSVC', Pipeline([('SVC',LinearSVC(C=0.0001))])))\n",
    "pipelines.append(('DecisionTree', Pipeline([('DTREE',DecisionTreeClassifier())])))\n",
    "# Employment of ensemble learning \n",
    "pipelines.append(('BaggingClassifier', Pipeline([('BAG',BaggingClassifier(DecisionTreeClassifier(),max_samples=0.5,max_features=1.0,n_estimators=10))])))\n",
    "pipelines.append(('XGBClassifier', Pipeline([('XGBoost',XGBClassifier(n_jobs= -1,n_estimators= 500,max_delta_step= 2))])))\n",
    "pipelines.append(('BoostClassifier', Pipeline([('BOOST',AdaBoostClassifier(DecisionTreeClassifier(min_samples_split=10,max_depth=4),n_estimators=10,learning_rate=0.6))])))\n",
    "pipelines.append(('RandomForest', Pipeline([('FOREST',RandomForestClassifier(n_estimators=30, max_depth=9))])))\n",
    "pipelines.append(('GradientBoost', Pipeline([('GBoost',GradientBoostingClassifier())])))\n",
    "# Deep learning models\n",
    "pipelines.append(('MLPClassifier', Pipeline([('MLP',MLPClassifier(learning_rate='adaptive',hidden_layer_sizes=(75,75)))])))\n",
    "\n",
    "\n",
    "results = []\n",
    "names = []\n",
    "for name, model in pipelines:\n",
    "    kfold = KFold(n_splits=10, random_state=21, shuffle=True)\n",
    "    # Data using standard scaling\n",
    "    cv_results = cross_val_score(model, x_train, y_train, cv=kfold, scoring='neg_mean_squared_error')\n",
    "    # Data using polynomial features \n",
    "    cv_poly_results = cross_val_score(model, x_trainPoly, y_trainPoly, cv=kfold, scoring='neg_mean_squared_error')\n",
    "    results.append(cv_results)\n",
    "    results.append(cv_poly_results)\n",
    "    names.append(name)\n",
    "    msg = \"%s: %f (%f) %s: %f (%f)\" % (name, cv_results.mean(), cv_results.std(), 'Log Outputs', cv_poly_results.mean(), cv_poly_results.std())\n",
    "    print(msg)"
   ]
  },
  {
   "cell_type": "markdown",
   "id": "783dbbbd",
   "metadata": {},
   "source": [
    "### We will move forward analyzing only our best performing standard binary classification model: Logistic Regression, and our top 3 performing ensemble learning models: Gradient Boosting, ADA Boosting, and Random Forest "
   ]
  },
  {
   "cell_type": "markdown",
   "id": "de73701c",
   "metadata": {},
   "source": [
    "### Looking at accuracy scoring for the models, we can see that the ADA Boosting model yields the best test accuracy and the polynomial features yield better accuracy than the standardized features. We can also see that the Random Forest model is dealing with overfitting issues"
   ]
  },
  {
   "cell_type": "code",
   "execution_count": 45,
   "id": "9c13e2d6",
   "metadata": {},
   "outputs": [
    {
     "name": "stdout",
     "output_type": "stream",
     "text": [
      "Standard Scaling Accuracy:---------------------------------------\n",
      "LogisticRegression() Train Accuracy:  79.59\n",
      "LogisticRegression() Test Accuracy:  80.48 \n",
      "\n",
      "GradientBoostingClassifier() Train Accuracy:  80.17\n",
      "GradientBoostingClassifier() Test Accuracy:  80.41 \n",
      "\n",
      "AdaBoostClassifier() Train Accuracy:  79.82\n",
      "AdaBoostClassifier() Test Accuracy:  80.7 \n",
      "\n",
      "RandomForestClassifier() Train Accuracy:  89.37\n",
      "RandomForestClassifier() Test Accuracy:  77.64 \n",
      "\n",
      "Standard Scaling Accuracy with Log:---------------------------------------\n",
      "LogisticRegression() Train Accuracy:  80.19\n",
      "LogisticRegression() Test Accuracy:  80.62 \n",
      "\n",
      "GradientBoostingClassifier() Train Accuracy:  80.95\n",
      "GradientBoostingClassifier() Test Accuracy:  80.7 \n",
      "\n",
      "AdaBoostClassifier() Train Accuracy:  80.1\n",
      "AdaBoostClassifier() Test Accuracy:  80.91 \n",
      "\n",
      "RandomForestClassifier() Train Accuracy:  89.37\n",
      "RandomForestClassifier() Test Accuracy:  77.0 \n",
      "\n"
     ]
    }
   ],
   "source": [
    "# Establish models of interest to input into accuracy function\n",
    "lgs = LogisticRegression(max_iter=1000)\n",
    "gbm = GradientBoostingClassifier()\n",
    "ada = AdaBoostClassifier(DecisionTreeClassifier(min_samples_split=10,max_depth=4),n_estimators=10,learning_rate=0.6)\n",
    "rfc = RandomForestClassifier(n_estimators=30, max_depth=9)\n",
    "\n",
    "# Produce and save the model, then load and apply the model.\n",
    "def model_scoring(name, model, trainX, trainy, testX, testy):\n",
    "    name = model()\n",
    "    name.fit(trainX, trainy)\n",
    "    predictions = name.predict(testX)\n",
    "    train_score = round(name.score(trainX, trainy) * 100, 2)\n",
    "    test_score = round(name.score(testX, testy) * 100, 2)\n",
    "    print(name, \"Train Accuracy: \", train_score)\n",
    "    print(name, \"Test Accuracy: \", test_score, '\\n')\n",
    "\n",
    "# Output Accuracy scoring for train and test sets, looking at the Standard and Log Response Variables \n",
    "print(\"Standard Scaling Accuracy:---------------------------------------\")\n",
    "model_scoring(lgs, LogisticRegression, x_train, y_train, x_test, y_test)\n",
    "model_scoring(gbm, GradientBoostingClassifier, x_train, y_train, x_test, y_test)\n",
    "model_scoring(ada, AdaBoostClassifier, x_train, y_train, x_test, y_test)\n",
    "model_scoring(rfc, RandomForestClassifier, x_train, y_train, x_test, y_test)\n",
    "\n",
    "# This looks at accuracy scoring with polynomial values for feature variables \n",
    "print(\"Standard Scaling Accuracy with Log:---------------------------------------\")\n",
    "model_scoring(lgs, LogisticRegression, x_trainPoly, y_trainPoly, x_testPoly, y_testPoly)\n",
    "model_scoring(gbm, GradientBoostingClassifier, x_trainPoly, y_trainPoly, x_testPoly, y_testPoly)\n",
    "model_scoring(ada, AdaBoostClassifier, x_trainPoly, y_trainPoly, x_testPoly, y_testPoly)\n",
    "model_scoring(rfc, RandomForestClassifier, x_trainPoly, y_trainPoly, x_testPoly, y_testPoly)"
   ]
  },
  {
   "cell_type": "markdown",
   "id": "75fcf11b",
   "metadata": {},
   "source": [
    "### Additional scoring outputs. We will use the polynomial features moving forward, as we are most concerned with model accuracy "
   ]
  },
  {
   "cell_type": "code",
   "execution_count": 46,
   "id": "6464d79d",
   "metadata": {},
   "outputs": [],
   "source": [
    "def roc_curve(model):\n",
    "    probs = model.predict_proba(x_testPoly)\n",
    "    preds = probs[:,1]\n",
    "    fpr, tpr, threshold = metrics.roc_curve(y_testPoly, preds)\n",
    "    roc_auc = metrics.auc(fpr, tpr)\n",
    "\n",
    "    plt.figure()\n",
    "    plt.plot(fpr, tpr, label='GridSearchCV (area = %0.2f)' % roc_auc)\n",
    "    plt.plot([0, 1], [0, 1],'r--')\n",
    "    plt.xlim([0.0, 1.0])\n",
    "    plt.ylim([0.0, 1.05])\n",
    "    plt.xlabel('False Positive Rate')\n",
    "    plt.ylabel('True Positive Rate')\n",
    "    plt.title('Receiver operating characteristic')\n",
    "    plt.legend(loc=\"lower right\")\n",
    "    plt.savefig('Log_ROC')\n",
    "    plt.show()"
   ]
  },
  {
   "cell_type": "markdown",
   "id": "26692945",
   "metadata": {},
   "source": [
    "## Logistic Regression"
   ]
  },
  {
   "cell_type": "code",
   "execution_count": 47,
   "id": "85bd02b8",
   "metadata": {},
   "outputs": [
    {
     "name": "stdout",
     "output_type": "stream",
     "text": [
      "\n",
      "Logistic Regression Confusion Matrix\n",
      " [[944  92]\n",
      " [178 195]]\n"
     ]
    },
    {
     "data": {
      "image/png": "[encoded data removed]",
      "text/plain": [
       "<Figure size 432x288 with 2 Axes>"
      ]
     },
     "metadata": {
      "needs_background": "light"
     },
     "output_type": "display_data"
    },
    {
     "name": "stdout",
     "output_type": "stream",
     "text": [
      "\n",
      "Logistic Regression Confusion Matrix\n",
      "               precision    recall  f1-score   support\n",
      "\n",
      "           0       0.84      0.91      0.87      1036\n",
      "           1       0.68      0.52      0.59       373\n",
      "\n",
      "    accuracy                           0.81      1409\n",
      "   macro avg       0.76      0.72      0.73      1409\n",
      "weighted avg       0.80      0.81      0.80      1409\n",
      "\n",
      "\n",
      "Accuracy: 0.808\n"
     ]
    }
   ],
   "source": [
    "#Produce and save the model, then load and apply the model.\n",
    "lgs = LogisticRegression(max_iter=1000)\n",
    "lgs.fit(x_trainPoly, y_trainPoly)\n",
    "lgs_predictions = lgs.predict(x_testPoly)\n",
    "\n",
    "lgs_matrix = metrics.confusion_matrix(y_testPoly,lgs_predictions)\n",
    "print(\"\\nLogistic Regression Confusion Matrix\\n\",lgs_matrix)\n",
    "\n",
    "plot_confusion_matrix(lgs, x_testPoly, y_testPoly, cmap=plt.cm.GnBu_r)  \n",
    "plt.show()\n",
    "\n",
    "class_report_lgs = classification_report(y_testPoly, lgs_predictions)\n",
    "print(\"\\nLogistic Regression Confusion Matrix\\n\",class_report_lgs)\n",
    "\n",
    "print(\"\\nAccuracy:\",round(metrics.accuracy_score(y_testPoly,lgs_predictions),3))\n",
    "\n"
   ]
  },
  {
   "cell_type": "code",
   "execution_count": 52,
   "id": "58403832",
   "metadata": {},
   "outputs": [
    {
     "data": {
      "image/png": "[encoded data removed]",
      "text/plain": [
       "<Figure size 432x288 with 1 Axes>"
      ]
     },
     "metadata": {
      "needs_background": "light"
     },
     "output_type": "display_data"
    }
   ],
   "source": [
    "roc_curve(lgs)"
   ]
  },
  {
   "cell_type": "markdown",
   "id": "54f40737",
   "metadata": {},
   "source": [
    "### Gradient Boost Classification"
   ]
  },
  {
   "cell_type": "code",
   "execution_count": 48,
   "id": "7287ede8",
   "metadata": {},
   "outputs": [
    {
     "name": "stdout",
     "output_type": "stream",
     "text": [
      "\n",
      "Gradient Boosting Classifier Confusion Matrix\n",
      " [[943  93]\n",
      " [179 194]]\n"
     ]
    },
    {
     "data": {
      "image/png": "[encoded data removed]",
      "text/plain": [
       "<Figure size 432x288 with 2 Axes>"
      ]
     },
     "metadata": {
      "needs_background": "light"
     },
     "output_type": "display_data"
    },
    {
     "name": "stdout",
     "output_type": "stream",
     "text": [
      "\n",
      "Gradient Boosting Classifier Confusion Matrix\n",
      "               precision    recall  f1-score   support\n",
      "\n",
      "           0       0.84      0.91      0.87      1036\n",
      "           1       0.68      0.52      0.59       373\n",
      "\n",
      "    accuracy                           0.81      1409\n",
      "   macro avg       0.76      0.72      0.73      1409\n",
      "weighted avg       0.80      0.81      0.80      1409\n",
      "\n",
      "\n",
      "Accuracy: 0.807\n"
     ]
    }
   ],
   "source": [
    "#Produce and save the model, then load and apply the model.\n",
    "gbm = GradientBoostingClassifier()\n",
    "gbm.fit(x_trainPoly, y_trainPoly)\n",
    "gbm_predictions = gbm.predict(x_testPoly)\n",
    "\n",
    "gbm_matrix = metrics.confusion_matrix(y_testPoly,gbm_predictions)\n",
    "print(\"\\nGradient Boosting Classifier Confusion Matrix\\n\",gbm_matrix)\n",
    "\n",
    "plot_confusion_matrix(gbm, x_testPoly, y_testPoly, cmap=plt.cm.GnBu_r)  \n",
    "plt.show()\n",
    "\n",
    "class_report_gbm = classification_report(y_testPoly, gbm_predictions)\n",
    "print(\"\\nGradient Boosting Classifier Confusion Matrix\\n\",class_report_gbm)\n",
    "\n",
    "print(\"\\nAccuracy:\",round(metrics.accuracy_score(y_testPoly,gbm_predictions),3))\n"
   ]
  },
  {
   "cell_type": "code",
   "execution_count": 51,
   "id": "24952e96",
   "metadata": {},
   "outputs": [
    {
     "data": {
      "image/png": "[encoded data removed]",
      "text/plain": [
       "<Figure size 432x288 with 1 Axes>"
      ]
     },
     "metadata": {
      "needs_background": "light"
     },
     "output_type": "display_data"
    }
   ],
   "source": [
    "roc_curve(gbm)"
   ]
  },
  {
   "cell_type": "markdown",
   "id": "7f5fdaab",
   "metadata": {},
   "source": [
    "### Boost Classification Model "
   ]
  },
  {
   "cell_type": "code",
   "execution_count": 49,
   "id": "463bd119",
   "metadata": {},
   "outputs": [
    {
     "name": "stdout",
     "output_type": "stream",
     "text": [
      "\n",
      "ADA Boosting Classifier Confusion Matrix\n",
      " [[937  99]\n",
      " [180 193]]\n"
     ]
    },
    {
     "data": {
      "image/png": "[encoded data removed]",
      "text/plain": [
       "<Figure size 432x288 with 2 Axes>"
      ]
     },
     "metadata": {
      "needs_background": "light"
     },
     "output_type": "display_data"
    },
    {
     "name": "stdout",
     "output_type": "stream",
     "text": [
      "\n",
      "ADA Boosting Confusion Matrix\n",
      "               precision    recall  f1-score   support\n",
      "\n",
      "           0       0.84      0.90      0.87      1036\n",
      "           1       0.66      0.52      0.58       373\n",
      "\n",
      "    accuracy                           0.80      1409\n",
      "   macro avg       0.75      0.71      0.73      1409\n",
      "weighted avg       0.79      0.80      0.79      1409\n",
      "\n",
      "\n",
      "Accuracy: 0.802\n"
     ]
    }
   ],
   "source": [
    "#Produce and save the model, then load and apply the model.\n",
    "ada = AdaBoostClassifier(DecisionTreeClassifier(min_samples_split=10,max_depth=4),n_estimators=10,learning_rate=0.6)\n",
    "ada.fit(x_trainPoly, y_trainPoly)\n",
    "ada_predictions = ada.predict(x_testPoly)\n",
    "\n",
    "ada_matrix = metrics.confusion_matrix(y_testPoly,ada_predictions)\n",
    "print(\"\\nADA Boosting Classifier Confusion Matrix\\n\",ada_matrix)\n",
    "\n",
    "plot_confusion_matrix(ada, x_testPoly, y_testPoly, cmap=plt.cm.GnBu_r)  \n",
    "plt.show()\n",
    "\n",
    "class_report_ada = classification_report(y_testPoly, ada_predictions)\n",
    "print(\"\\nADA Boosting Confusion Matrix\\n\",class_report_ada)\n",
    "\n",
    "print(\"\\nAccuracy:\",round(metrics.accuracy_score(y_testPoly,ada_predictions),3))\n"
   ]
  },
  {
   "cell_type": "code",
   "execution_count": 50,
   "id": "9a50344f",
   "metadata": {},
   "outputs": [
    {
     "data": {
      "image/png": "[encoded data removed]",
      "text/plain": [
       "<Figure size 432x288 with 1 Axes>"
      ]
     },
     "metadata": {
      "needs_background": "light"
     },
     "output_type": "display_data"
    }
   ],
   "source": [
    "roc_curve(ada)"
   ]
  },
  {
   "cell_type": "markdown",
   "id": "58680b45",
   "metadata": {},
   "source": [
    "### Random Forest "
   ]
  },
  {
   "cell_type": "code",
   "execution_count": 53,
   "id": "f9a6471a",
   "metadata": {},
   "outputs": [
    {
     "name": "stdout",
     "output_type": "stream",
     "text": [
      "\n",
      "Random Forest Classifier Confusion Matrix\n",
      " [[939  97]\n",
      " [180 193]]\n"
     ]
    },
    {
     "data": {
      "image/png": "[encoded data removed]",
      "text/plain": [
       "<Figure size 432x288 with 2 Axes>"
      ]
     },
     "metadata": {
      "needs_background": "light"
     },
     "output_type": "display_data"
    },
    {
     "name": "stdout",
     "output_type": "stream",
     "text": [
      "\n",
      "Random Forest Confusion Matrix\n",
      "               precision    recall  f1-score   support\n",
      "\n",
      "           0       0.84      0.91      0.87      1036\n",
      "           1       0.67      0.52      0.58       373\n",
      "\n",
      "    accuracy                           0.80      1409\n",
      "   macro avg       0.75      0.71      0.73      1409\n",
      "weighted avg       0.79      0.80      0.79      1409\n",
      "\n",
      "\n",
      "Accuracy: 0.803\n"
     ]
    }
   ],
   "source": [
    "#Produce and save the model, then load and apply the model.\n",
    "rfc = RandomForestClassifier(n_estimators=30, max_depth=9)\n",
    "rfc.fit(x_trainPoly, y_trainPoly)\n",
    "rfc_predictions = rfc.predict(x_testPoly)\n",
    "\n",
    "rfc_matrix = metrics.confusion_matrix(y_testPoly,rfc_predictions)\n",
    "print(\"\\nRandom Forest Classifier Confusion Matrix\\n\",rfc_matrix)\n",
    "\n",
    "plot_confusion_matrix(rfc, x_testPoly, y_testPoly, cmap=plt.cm.GnBu_r)  \n",
    "plt.show()\n",
    "\n",
    "class_report_rfc = classification_report(y_testPoly, rfc_predictions)\n",
    "print(\"\\nRandom Forest Confusion Matrix\\n\",class_report_rfc)\n",
    "\n",
    "print(\"\\nAccuracy:\",round(metrics.accuracy_score(y_testPoly,rfc_predictions),3))"
   ]
  },
  {
   "cell_type": "code",
   "execution_count": 54,
   "id": "9c1f86a5",
   "metadata": {},
   "outputs": [
    {
     "data": {
      "image/png": "[encoded data removed]",
      "text/plain": [
       "<Figure size 432x288 with 1 Axes>"
      ]
     },
     "metadata": {
      "needs_background": "light"
     },
     "output_type": "display_data"
    }
   ],
   "source": [
    "roc_curve(rfc)"
   ]
  },
  {
   "cell_type": "code",
   "execution_count": null,
   "id": "0978d68b",
   "metadata": {},
   "outputs": [],
   "source": []
  }
 ],
 "metadata": {
  "kernelspec": {
   "display_name": "Python 3 (ipykernel)",
   "language": "python",
   "name": "python3"
  },
  "language_info": {
   "codemirror_mode": {
    "name": "ipython",
    "version": 3
   },
   "file_extension": ".py",
   "mimetype": "text/x-python",
   "name": "python",
   "nbconvert_exporter": "python",
   "pygments_lexer": "ipython3",
   "version": "3.9.7"
  }
 },
 "nbformat": 4,
 "nbformat_minor": 5
}
